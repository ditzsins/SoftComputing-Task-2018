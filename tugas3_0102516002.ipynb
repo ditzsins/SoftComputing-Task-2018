{
 "cells": [
  {
   "cell_type": "code",
   "execution_count": 1,
   "metadata": {
    "_uuid": "bc188292700631ebc445df141a7804515f0bdb5d",
    "colab": {
     "base_uri": "https://localhost:8080/",
     "height": 35
    },
    "colab_type": "code",
    "id": "TtiqIv3UodtE",
    "outputId": "916d7663-2527-43c5-82bd-d7212d60663f"
   },
   "outputs": [
    {
     "name": "stderr",
     "output_type": "stream",
     "text": [
      "Using TensorFlow backend.\n"
     ]
    }
   ],
   "source": [
    "import warnings\n",
    "warnings.filterwarnings('ignore')\n",
    "\n",
    "from collections import Counter\n",
    "from scipy.stats import norm\n",
    "from scipy import misc\n",
    "from mpl_toolkits.mplot3d import Axes3D\n",
    "from keras import optimizers\n",
    "from keras.models import Sequential, load_model\n",
    "from keras.layers import Dense, Dropout, Flatten\n",
    "from keras.layers import Conv2D, MaxPooling2D\n",
    "from keras import backend as K\n",
    "from sklearn.metrics import accuracy_score, confusion_matrix\n",
    "from sklearn.model_selection import train_test_split\n",
    "from sklearn.preprocessing import LabelEncoder\n",
    "from sklearn.decomposition import PCA\n",
    "from sklearn.metrics import classification_report, r2_score\n",
    "from keras.layers.pooling import MaxPooling2D, GlobalAveragePooling2D\n",
    "import numpy as np\n",
    "import os\n",
    "import pandas as pd\n",
    "import seaborn as sns\n",
    "import matplotlib.pyplot as plt\n",
    "import tensorflow as tf\n",
    "import keras\n",
    "import cv2\n",
    "import time\n",
    "import glob\n",
    "import sys\n",
    "import scipy\n",
    "sns.set(style=\"darkgrid\", context=\"talk\", palette=\"Set2\")\n",
    "RANDOM_STATE = 2401\n",
    "np.random.seed(RANDOM_STATE)\n",
    "\n",
    "%matplotlib inline"
   ]
  },
  {
   "cell_type": "code",
   "execution_count": 0,
   "metadata": {
    "colab": {
     "base_uri": "https://localhost:8080/",
     "height": 35
    },
    "colab_type": "code",
    "id": "pCe9TL36HkrN",
    "outputId": "7799654c-b80f-48e8-c72e-7fd42e0e7119"
   },
   "outputs": [
    {
     "name": "stdout",
     "output_type": "stream",
     "text": [
      "Drive already mounted at /content/drive; to attempt to forcibly remount, call drive.mount(\"/content/drive\", force_remount=True).\n"
     ]
    }
   ],
   "source": [
    "from google.colab import drive\n",
    "drive.mount('/content/drive')"
   ]
  },
  {
   "cell_type": "code",
   "execution_count": 0,
   "metadata": {
    "_cell_guid": "79c7e3d0-c299-4dcb-8224-4455121ee9b0",
    "_uuid": "d629ff2d2480ee46fbb7e2d37f6b5fab8052498a",
    "colab": {},
    "colab_type": "code",
    "id": "WwPBXuLtodti"
   },
   "outputs": [],
   "source": [
    "images = []\n",
    "label = []\n",
    "folders = [\"../content/drive/My Drive/Colab Notebooks/train/fried_rice\", \"../content/drive/My Drive/Colab Notebooks/train/ramen\"]\n",
    "for folder in folders:\n",
    "    for filename in os.listdir(folder):\n",
    "        img = cv2.imread(os.path.join(folder,filename))\n",
    "        img = cv2.resize(img,(128,128))\n",
    "        if img is not None:\n",
    "            images.append(img)\n",
    "            label.append(folder.split(\"/\")[-1])"
   ]
  },
  {
   "cell_type": "code",
   "execution_count": 0,
   "metadata": {
    "_uuid": "84d5360bcb36d2b31f3619f4ecc0b24db9971920",
    "colab": {},
    "colab_type": "code",
    "id": "8MOgG1p_odtr"
   },
   "outputs": [],
   "source": [
    "X_train = np.asarray(images)\n",
    "label = [1 if name == \"fried_rice\" else 0 for name in label]\n",
    "Y_train = np.asarray(label)"
   ]
  },
  {
   "cell_type": "code",
   "execution_count": 0,
   "metadata": {
    "_uuid": "e7f27c850f30d3b89ee2196fe221002a35041c4b",
    "colab": {},
    "colab_type": "code",
    "id": "f6PGSuIKodt5"
   },
   "outputs": [],
   "source": [
    "images = []\n",
    "ids = []\n",
    "folders = [\"../content/drive/My Drive/Colab Notebooks/test\"]\n",
    "for folder in folders:\n",
    "    for filename in os.listdir(folder):\n",
    "        img = cv2.imread(os.path.join(folder,filename))\n",
    "        img = cv2.resize(img,(128,128))\n",
    "        if img is not None:\n",
    "            images.append(img)\n",
    "            ids.append(filename)"
   ]
  },
  {
   "cell_type": "code",
   "execution_count": 0,
   "metadata": {
    "_uuid": "ff0e4df12df29d40a8ea0cd322c61b725fec9100",
    "colab": {},
    "colab_type": "code",
    "id": "DslT8Q3ooduA"
   },
   "outputs": [],
   "source": [
    "x_test = np.asarray(images)"
   ]
  },
  {
   "cell_type": "code",
   "execution_count": 0,
   "metadata": {
    "_uuid": "b2252cb9797e5bc4362290ef9d3fa2fed3634740",
    "colab": {},
    "colab_type": "code",
    "id": "ivAxE7W7oduG"
   },
   "outputs": [],
   "source": [
    "from keras.applications.xception import Xception\n",
    " \n",
    "application = Xception(include_top=False, weights='imagenet', input_shape=(128, 128, 3))"
   ]
  },
  {
   "cell_type": "code",
   "execution_count": 0,
   "metadata": {
    "_uuid": "9c99b42ec8491f730ed10174a684fbab56561a8e",
    "colab": {
     "base_uri": "https://localhost:8080/",
     "height": 35
    },
    "colab_type": "code",
    "id": "ZMvyyOJJoduN",
    "outputId": "421ac5ac-31df-4f47-b8f2-99dc49993884"
   },
   "outputs": [
    {
     "data": {
      "text/plain": [
       "(1600, 128, 128, 3)"
      ]
     },
     "execution_count": 10,
     "metadata": {
      "tags": []
     },
     "output_type": "execute_result"
    }
   ],
   "source": [
    "X_train.shape"
   ]
  },
  {
   "cell_type": "code",
   "execution_count": 0,
   "metadata": {
    "_uuid": "0f38d622194428001c3b9530fba4bed1e0b1422c",
    "colab": {
     "base_uri": "https://localhost:8080/",
     "height": 72
    },
    "colab_type": "code",
    "id": "TVIJ-syModuc",
    "outputId": "75423d5b-cf06-4242-98ab-cbd8cba58c06"
   },
   "outputs": [
    {
     "name": "stdout",
     "output_type": "stream",
     "text": [
      "x_train shape: (1200, 128, 128, 3)\n",
      "1200 train samples\n",
      "400 test samples\n"
     ]
    }
   ],
   "source": [
    "img_rows, img_cols = 128, 128\n",
    "\n",
    "batch_size = 25\n",
    "num_classes = 2\n",
    "epochs = 5\n",
    "\n",
    "x_train, x_val, y_train, y_val = train_test_split(X_train,Y_train,test_size=0.25,random_state=RANDOM_STATE)\n",
    "\n",
    "if K.image_dim_ordering() == 'th':\n",
    "    x_train = x_train.reshape(x_train.shape[0], 3, img_rows, img_cols)\n",
    "    x_val = x_val.reshape(x_val.shape[0], 3, img_rows, img_cols)\n",
    "    input_shape = (3, img_rows, img_cols)\n",
    "else:\n",
    "    x_train = x_train.reshape(x_train.shape[0], img_rows, img_cols, 3)\n",
    "    x_val = x_val.reshape(x_val.shape[0], img_rows, img_cols, 3)\n",
    "    input_shape = (img_rows, img_cols, 3)\n",
    "    \n",
    "x_train = x_train.astype('float32')\n",
    "x_train = x_train/255.0\n",
    "x_val = x_val.astype('float32')\n",
    "x_val = x_val/255.0\n",
    "\n",
    "print('x_train shape:', x_train.shape)\n",
    "print(x_train.shape[0], 'train samples')\n",
    "print(x_val.shape[0], 'test samples')\n",
    "\n",
    "y_train = keras.utils.to_categorical(y_train, num_classes)\n",
    "y_val = keras.utils.to_categorical(y_val, num_classes)"
   ]
  },
  {
   "cell_type": "code",
   "execution_count": 0,
   "metadata": {
    "_uuid": "dd849c382e3a23cd7b47d1d4d532a2f8006985c7",
    "colab": {
     "base_uri": "https://localhost:8080/",
     "height": 146
    },
    "colab_type": "code",
    "id": "WtTR-bMDodum",
    "outputId": "642c80fe-c579-47fc-ec95-8450d1fc58b0"
   },
   "outputs": [
    {
     "data": {
      "text/plain": [
       "array([[1., 0.],\n",
       "       [0., 1.],\n",
       "       [0., 1.],\n",
       "       ...,\n",
       "       [0., 1.],\n",
       "       [1., 0.],\n",
       "       [0., 1.]], dtype=float32)"
      ]
     },
     "execution_count": 12,
     "metadata": {
      "tags": []
     },
     "output_type": "execute_result"
    }
   ],
   "source": [
    "y_train"
   ]
  },
  {
   "cell_type": "code",
   "execution_count": 0,
   "metadata": {
    "_uuid": "e187a44003e498afb35d16bca88283c78f0687b0",
    "colab": {
     "base_uri": "https://localhost:8080/",
     "height": 329
    },
    "colab_type": "code",
    "id": "F9ZSrET_odut",
    "outputId": "eeb3c73e-08f5-4004-bb79-12f28ea5db36"
   },
   "outputs": [
    {
     "name": "stdout",
     "output_type": "stream",
     "text": [
      "_________________________________________________________________\n",
      "Layer (type)                 Output Shape              Param #   \n",
      "=================================================================\n",
      "xception (Model)             (None, 4, 4, 2048)        20861480  \n",
      "_________________________________________________________________\n",
      "flatten_1 (Flatten)          (None, 32768)             0         \n",
      "_________________________________________________________________\n",
      "dense_1 (Dense)              (None, 1024)              33555456  \n",
      "_________________________________________________________________\n",
      "dropout_1 (Dropout)          (None, 1024)              0         \n",
      "_________________________________________________________________\n",
      "dense_2 (Dense)              (None, 2)                 2050      \n",
      "=================================================================\n",
      "Total params: 54,418,986\n",
      "Trainable params: 54,364,458\n",
      "Non-trainable params: 54,528\n",
      "_________________________________________________________________\n"
     ]
    }
   ],
   "source": [
    "from keras import models\n",
    "from keras import layers\n",
    "from keras import optimizers\n",
    " \n",
    "# Create the model\n",
    "model = models.Sequential()\n",
    " \n",
    "# Add the vgg convolutional base model\n",
    "model.add(application)\n",
    " \n",
    "# Add new layers\n",
    "model.add(layers.Flatten())\n",
    "model.add(layers.Dense(1024, activation='relu'))\n",
    "model.add(layers.Dropout(0.5))\n",
    "model.add(layers.Dense(2, activation='softmax'))\n",
    " \n",
    "# Show a summary of the model. Check the number of trainable parameters\n",
    "model.summary()"
   ]
  },
  {
   "cell_type": "code",
   "execution_count": 0,
   "metadata": {
    "_uuid": "f3511b692a95d09f5db2692d59b4a2b5daf03817",
    "colab": {
     "base_uri": "https://localhost:8080/",
     "height": 219
    },
    "colab_type": "code",
    "id": "nhguemvzodu2",
    "outputId": "509fd860-0353-4d5b-ccff-dca6a5659a26"
   },
   "outputs": [
    {
     "name": "stdout",
     "output_type": "stream",
     "text": [
      "Train on 1200 samples, validate on 400 samples\n",
      "Epoch 1/5\n",
      "1200/1200 [==============================] - 695s 580ms/step - loss: 0.6329 - acc: 0.7583 - val_loss: 2.5975 - val_acc: 0.7825\n",
      "Epoch 2/5\n",
      "1200/1200 [==============================] - 684s 570ms/step - loss: 0.4397 - acc: 0.7825 - val_loss: 6.4624 - val_acc: 0.5275\n",
      "Epoch 3/5\n",
      "1200/1200 [==============================] - 671s 559ms/step - loss: 0.3005 - acc: 0.8542 - val_loss: 0.5739 - val_acc: 0.8925\n",
      "Epoch 4/5\n",
      "1200/1200 [==============================] - 689s 574ms/step - loss: 0.2224 - acc: 0.9142 - val_loss: 1.0727 - val_acc: 0.6675\n",
      "Epoch 5/5\n",
      "1200/1200 [==============================] - 682s 569ms/step - loss: 0.1286 - acc: 0.9458 - val_loss: 0.2073 - val_acc: 0.9375\n"
     ]
    }
   ],
   "source": [
    "model.compile(loss='categorical_crossentropy',optimizer=optimizers.Adam(),metrics=['acc'])\n",
    "# Train the model\n",
    "hist = model.fit(x_train, y_train,batch_size=batch_size,epochs=epochs,verbose=1,validation_data=(x_val, y_val))\n",
    "# Save the model\n",
    "model.save('cobacoba.h5')"
   ]
  },
  {
   "cell_type": "code",
   "execution_count": 0,
   "metadata": {
    "_uuid": "44deaa72d45ade9e057712156f54822e289d8f2b",
    "colab": {
     "base_uri": "https://localhost:8080/",
     "height": 269
    },
    "colab_type": "code",
    "id": "8iSvIUt2odu9",
    "outputId": "2b6d8c32-195d-4fa3-972d-4e3655b9dc37"
   },
   "outputs": [
    {
     "data": {
      "image/png": "[encoded data removed]",
      "text/plain": [
       "<matplotlib.figure.Figure at 0x7f4b7f359dd8>"
      ]
     },
     "metadata": {
      "tags": []
     },
     "output_type": "display_data"
    }
   ],
   "source": [
    "plt.plot(hist.history['acc'])\n",
    "plt.plot(hist.history['val_acc'])\n",
    "plt.show()"
   ]
  },
  {
   "cell_type": "code",
   "execution_count": 0,
   "metadata": {
    "_uuid": "8192a2c8f0fabc6ae67b0f886652ecc1a4490272",
    "colab": {
     "base_uri": "https://localhost:8080/",
     "height": 305
    },
    "colab_type": "code",
    "id": "8Y-hoq6nodvH",
    "outputId": "7830a025-4346-47a9-f6b4-ba641bb4ff7f"
   },
   "outputs": [
    {
     "data": {
      "image/png": "[encoded data removed]",
      "text/plain": [
       "<matplotlib.figure.Figure at 0x7f4b87fa7a20>"
      ]
     },
     "metadata": {
      "tags": []
     },
     "output_type": "display_data"
    }
   ],
   "source": [
    "y_pred = model.predict_classes(x_val)\n",
    "cm = confusion_matrix(np.argmax(y_val,axis=1),y_pred)\n",
    "\n",
    "ax = plt.axes()\n",
    "sns.heatmap(cm, annot=True, fmt=\"d\", cmap=\"PuRd\") #-___-\n",
    "ax.set_title('Confusion Matrix Convolutional Neural Network')\n",
    "#ax.set_yticklabels(le.inverse_transform([1,0]))\n",
    "#ax.set_xticklabels(le.inverse_transform([0,1]))\n",
    "ax.set_ylabel('True Label')\n",
    "ax.set_xlabel('Predicted Label')\n",
    "plt.show()"
   ]
  },
  {
   "cell_type": "code",
   "execution_count": 0,
   "metadata": {
    "colab": {},
    "colab_type": "code",
    "id": "qCOBPlYvBE2p"
   },
   "outputs": [],
   "source": [
    "x_test = x_test/255.0"
   ]
  },
  {
   "cell_type": "code",
   "execution_count": 0,
   "metadata": {
    "_uuid": "29cee18d16c2cc981422c55c02c1e5875793669f",
    "colab": {},
    "colab_type": "code",
    "id": "zmHWFJXVodvN"
   },
   "outputs": [],
   "source": [
    "y_pred_test = model.predict_classes(x_test)\n",
    "\n",
    "df = pd.DataFrame(columns=['id','kelas'])\n",
    "df['id'] = ids.copy()\n",
    "df['kelas'] = y_pred_test.copy()"
   ]
  },
  {
   "cell_type": "code",
   "execution_count": 0,
   "metadata": {
    "_uuid": "3db8e0af28bc6893c8c560de56b232b0dafae42a",
    "colab": {},
    "colab_type": "code",
    "id": "abXRQ1ISodvu"
   },
   "outputs": [],
   "source": [
    "df.to_csv('0102516002.csv', sep=',', index=False)"
   ]
  },
  {
   "cell_type": "code",
   "execution_count": 0,
   "metadata": {
    "colab": {},
    "colab_type": "code",
    "id": "77fSRwvkFN1j"
   },
   "outputs": [],
   "source": [
    "!pip install -U -q PyDrive\n",
    "\n",
    "from pydrive.auth import GoogleAuth\n",
    "from pydrive.drive import GoogleDrive\n",
    "from google.colab import auth\n",
    "from oauth2client.client import GoogleCredentials\n",
    "\n",
    "# 1. Authenticate and create the PyDrive client.\n",
    "auth.authenticate_user()\n",
    "gauth = GoogleAuth()\n",
    "gauth.credentials = GoogleCredentials.get_application_default()\n",
    "drive = GoogleDrive(gauth)"
   ]
  },
  {
   "cell_type": "code",
   "execution_count": 0,
   "metadata": {
    "colab": {},
    "colab_type": "code",
    "id": "gazSn9FX_XYh"
   },
   "outputs": [],
   "source": [
    "uploaded = drive.CreateFile({'title': '0102516002.csv'})\n",
    "uploaded.SetContentFile('0102516002.csv')\n",
    "uploaded.Upload()"
   ]
  },
  {
   "cell_type": "code",
   "execution_count": 0,
   "metadata": {
    "colab": {},
    "colab_type": "code",
    "id": "KVbZGblRHRNv"
   },
   "outputs": [],
   "source": []
  },
  {
   "cell_type": "code",
   "execution_count": 0,
   "metadata": {
    "colab": {},
    "colab_type": "code",
    "id": "SIrmQmqZGKAl"
   },
   "outputs": [],
   "source": []
  }
 ],
 "metadata": {
  "colab": {
   "collapsed_sections": [],
   "name": "tugas2_0102516002.ipynb",
   "provenance": [],
   "version": "0.3.2"
  },
  "kernelspec": {
   "display_name": "Python 3",
   "language": "python",
   "name": "python3"
  },
  "language_info": {
   "codemirror_mode": {
    "name": "ipython",
    "version": 3
   },
   "file_extension": ".py",
   "mimetype": "text/x-python",
   "name": "python",
   "nbconvert_exporter": "python",
   "pygments_lexer": "ipython3",
   "version": "3.6.8"
  }
 },
 "nbformat": 4,
 "nbformat_minor": 1
}
