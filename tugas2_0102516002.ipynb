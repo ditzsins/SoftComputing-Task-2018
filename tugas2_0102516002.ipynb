{
 "cells": [
  {
   "cell_type": "markdown",
   "metadata": {
    "_uuid": "6f709decb7638913b032f50fed5ee2b7e687b3f5",
    "colab_type": "text",
    "id": "4pUvGziITVsN"
   },
   "source": [
    "# Soft Computing\n",
    "\n",
    "## Tugas 2: Convolutional Neural Networks\n",
    "\n",
    "### Mekanisme\n",
    "\n",
    "Anda hanya diwajibkan untuk mengumpulkan file ini saja ke uploader yang disediakan di http://elearning2.uai.ac.id/. Ganti nama file ini saat pengumpulan menjadi tugas2_NIM.ipynb.\n",
    "\n",
    "**Keterlambatan**: Pengumpulan tugas yang melebihi tenggat yang telah ditentukan tidak akan diterima. Keterlambatan akan berakibat pada nilai nol untuk tugas ini.\n",
    "\n",
    "**Kolaborasi**: Anda diperbolehkan untuk berdiskusi dengan teman Anda, tetapi dilarang keras menyalin kode maupun tulisan dari teman Anda.\n",
    "\n",
    "### Petunjuk\n",
    "\n",
    "_Packages_ yang Anda akan gunakan dalam mengerjakan tugas ini antara lain:\n",
    "\n",
    "- tensorflow/keras\n",
    "- matplotlib\n",
    "- numpy\n",
    "- pandas\n",
    "- pillow\n",
    "- scipy\n",
    "- seaborn\n",
    "\n",
    "Anda diperbolehkan (jika dirasa perlu) untuk mengimpor modul tambahan untuk tugas ini. Namun, seharusnya modul yang tersedia sudah cukup untuk memenuhi kebutuhan Anda. Untuk kode yang Anda ambil dari sumber lain, **cantumkan URL menuju referensi tersebut jika diambil dari internet**!\n",
    "\n",
    "Perhatikan poin untuk tiap soal! **Semakin kecil poinnya, berarti kode yang diperlukan untuk menjawab soal tersebut seharusnya semakin sedikit!**"
   ]
  },
  {
   "cell_type": "markdown",
   "metadata": {
    "_uuid": "85d9d9d16ff40b62c2617bf940b3c9667d99b1c2",
    "colab_type": "text",
    "id": "QwPYZTyYTVtJ"
   },
   "source": [
    "**Nilai akhir: XX/50**"
   ]
  },
  {
   "cell_type": "markdown",
   "metadata": {
    "_uuid": "28bff3c8b506edf282af623dfaea70588a12515c",
    "colab_type": "text",
    "id": "esg7b0xTTVtz"
   },
   "source": [
    "### Deskripsi Dataset\n",
    "\n",
    "Dalam tugas ini, Anda akan mencoba melakukan klasifikasi objek melalui gambar dengan dataset [CIFAR-10](https://www.cs.toronto.edu/~kriz/cifar.html). Data ini terdiri dari 60000 gambar berwarna dengan ukuran 32x32 pixels yang terbagi ke dalam 10 kelas. Data ini dikumpulkan oleh Alex Krizhevsky, Vinod Nair, dan Geoffrey Hinton. Tugas Anda adalah menghasilkan model yang dapat mengklasifikasikan sebaik mungkin masing-masing objek dalam dataset tersebut."
   ]
  },
  {
   "cell_type": "markdown",
   "metadata": {
    "_uuid": "8c3f2ce70c6bb3865189fb23753a5418211ce324",
    "colab_type": "text",
    "id": "n14hWF9cTVvp"
   },
   "source": [
    "### Mengimpor Modul dan Dataset"
   ]
  },
  {
   "cell_type": "code",
   "execution_count": 3,
   "metadata": {
    "_uuid": "e4fb61f7cb5c5b9a2c5bad562211c8f8bdc11eec",
    "colab": {},
    "colab_type": "code",
    "id": "Yw77w3RsTVwR"
   },
   "outputs": [],
   "source": [
    "import matplotlib.pyplot as plt\n",
    "import numpy as np\n",
    "import pandas as pd\n",
    "import seaborn as sns\n",
    "import tensorflow as tf\n",
    "\n",
    "%matplotlib inline"
   ]
  },
  {
   "cell_type": "code",
   "execution_count": 10,
   "metadata": {
    "_uuid": "67245ec1bbe5160f09cabb55f0773bdb5417f5b9",
    "colab": {},
    "colab_type": "code",
    "id": "WzfSd6VrTVyJ"
   },
   "outputs": [],
   "source": [
    "cifar10 = tf.keras.datasets.cifar10\n",
    "(x_train, y_train), (x_test, y_test) = cifar10.load_data()"
   ]
  },
  {
   "cell_type": "code",
   "execution_count": 5,
   "metadata": {
    "_uuid": "28f7215d0c739ed0016483cb56ac3a93449f0aeb",
    "colab": {},
    "colab_type": "code",
    "id": "jfxauPoNTV0S"
   },
   "outputs": [],
   "source": [
    "labels = [\n",
    "    'airplane',\n",
    "    'automobile',\n",
    "    'bird',\n",
    "    'cat',\n",
    "    'deer',\n",
    "    'dog',\n",
    "    'frog',\n",
    "    'horse',\n",
    "    'ship',\n",
    "    'truck'\n",
    "]"
   ]
  },
  {
   "cell_type": "markdown",
   "metadata": {
    "_uuid": "affd330f32ea341a55ed200021dbd80791c18664",
    "colab_type": "text",
    "id": "Y3J82e5YTV1j"
   },
   "source": [
    "## 1. Eksplorasi Awal Data dan Preprocessing (10 poin)\n",
    "\n",
    "Pada bagian ini, kecuali dijelaskan lebih rinci, dataset yang Anda harusnya gunakan adalah `x_train`."
   ]
  },
  {
   "cell_type": "markdown",
   "metadata": {
    "_uuid": "d918ff6184b04fa3f7f1f6b2c0aaacff6f0a4357",
    "colab_type": "text",
    "id": "8BafSJ-uTV1z"
   },
   "source": [
    "### Soal 1.1 (2 poin)\n",
    "\n",
    "Tunjukkan dimensi dari data latih dan data uji."
   ]
  },
  {
   "cell_type": "code",
   "execution_count": 4,
   "metadata": {
    "_uuid": "f0146201278f1138541adb1c7955b0dd63dce5cd",
    "colab": {
     "base_uri": "https://localhost:8080/",
     "height": 90
    },
    "colab_type": "code",
    "id": "CfVp60xzTV3J",
    "outputId": "4c05b4e6-bf7b-4348-de2a-33d3e6e54a36"
   },
   "outputs": [
    {
     "name": "stdout",
     "output_type": "stream",
     "text": [
      "(50000, 32, 32, 3)\n",
      "(50000, 1)\n",
      "(10000, 32, 32, 3)\n",
      "(10000, 1)\n"
     ]
    }
   ],
   "source": [
    "print(x_train.shape)\n",
    "print(y_train.shape)\n",
    "print(x_test.shape)\n",
    "print(y_test.shape)"
   ]
  },
  {
   "cell_type": "markdown",
   "metadata": {
    "_uuid": "7e682cb889a57a434362eb7be7ef14f8e985376e",
    "colab_type": "text",
    "id": "OmwWmytpTV34"
   },
   "source": [
    "### Soal 1.2 (3 poin)\n",
    "\n",
    "Ambil 1 contoh gambar dari masing-masing kelas, lalu gambarkan.\n",
    "\n",
    "*Petunjuk: Anda dapat menggunakan `plt.imshow()`*"
   ]
  },
  {
   "cell_type": "code",
   "execution_count": 6,
   "metadata": {
    "_uuid": "f3db43a5e850efb21a6c2f106dc15e9e5c12b983",
    "colab": {},
    "colab_type": "code",
    "id": "PvdMfLFPTV4Z"
   },
   "outputs": [],
   "source": [
    "no_class = [0,1,2,3,4,5,6,7,8,9]\n",
    "index = []\n",
    "for i in range(len(no_class)):\n",
    "  for j in range(len(y_train)):\n",
    "    if no_class[i] == y_train[j]:\n",
    "      index.append(j)\n",
    "      break"
   ]
  },
  {
   "cell_type": "code",
   "execution_count": 12,
   "metadata": {},
   "outputs": [
    {
     "data": {
      "text/plain": [
       "[29, 4, 6, 9, 3, 27, 0, 7, 8, 1]"
      ]
     },
     "execution_count": 12,
     "metadata": {},
     "output_type": "execute_result"
    }
   ],
   "source": [
    "index"
   ]
  },
  {
   "cell_type": "code",
   "execution_count": 6,
   "metadata": {
    "_uuid": "40dd61658b194019d888d0ffd950fca9ecde7af8",
    "colab": {
     "base_uri": "https://localhost:8080/",
     "height": 335
    },
    "colab_type": "code",
    "id": "EsduyeDHAWn0",
    "outputId": "c998d248-7ee5-43e2-cb8c-69f9658a7e5f"
   },
   "outputs": [
    {
     "data": {
      "image/png": "[encoded data removed]",
      "text/plain": [
       "<Figure size 1440x360 with 10 Axes>"
      ]
     },
     "metadata": {
      "needs_background": "light"
     },
     "output_type": "display_data"
    }
   ],
   "source": [
    "fig, axes = plt.subplots(2,5,figsize=(20,5))\n",
    "for img, y, ax, i in zip (x_train[index], y_train[index], axes.flatten(), range(10)):\n",
    "  ax.set_title(format(labels[i]))\n",
    "  ax.imshow(img)\n",
    "plt.show()"
   ]
  },
  {
   "cell_type": "markdown",
   "metadata": {
    "_uuid": "fe87f41be41a084e357813927568850d3e18b89e",
    "colab_type": "text",
    "id": "UZgAJKygTV6f"
   },
   "source": [
    "### Soal 1.3 (5 poin)\n",
    "\n",
    "Anda akan melakukan dua jenis pemrosesan, untuk hitam-putih dan untuk gambar berwarna. Saat ini, Anda hanya memiliki gambar berwarna. Oleh karena itu, ubah gambar dalam data latih dan data uji menjadi hitam-putih. Caranya adalah dengan mencari nilai rata-rata dari ketiga channel RGB untuk setiap pixel. Tunjukkan 5 sampel gambar untuk memastikan bahwa warnanya sudah berubah."
   ]
  },
  {
   "cell_type": "code",
   "execution_count": 7,
   "metadata": {
    "_uuid": "1bc9990acbb514ac88bcc71ad87088941fa1aa68",
    "colab": {},
    "colab_type": "code",
    "id": "3NbyvjnaIJDv"
   },
   "outputs": [],
   "source": [
    "# normalize inputs from 0-255 to 0.0-1.0\n",
    "x_train = x_train.astype('float32')\n",
    "x_test = x_test.astype('float32')\n",
    "x_train = x_train / 255.0\n",
    "x_test = x_test / 255.0"
   ]
  },
  {
   "cell_type": "code",
   "execution_count": 8,
   "metadata": {
    "_uuid": "2f974f1d55616f5d57e74876444311bfa9cfcd09"
   },
   "outputs": [],
   "source": [
    "def grayscale(data, dtype='float32'):\n",
    "    # luma coding weighted average in video systems\n",
    "    r, g, b = np.asarray(.3, dtype=dtype), np.asarray(.59, dtype=dtype), np.asarray(.11, dtype=dtype)\n",
    "    rst = r * data[:, :, :, 0] + g * data[:, :, :, 1] + b * data[:, :, :, 2]\n",
    "    # add channel dimension\n",
    "    rst = np.expand_dims(rst, axis=3)\n",
    "    return rst\n",
    "\n",
    "x_train_gray = grayscale(x_train)\n",
    "x_test_gray = grayscale(x_test)"
   ]
  },
  {
   "cell_type": "code",
   "execution_count": 25,
   "metadata": {
    "_uuid": "000f5f8a14a7e2bb7176032377877de2b648c85f"
   },
   "outputs": [
    {
     "data": {
      "text/plain": [
       "(50000, 32, 32, 1)"
      ]
     },
     "execution_count": 25,
     "metadata": {},
     "output_type": "execute_result"
    }
   ],
   "source": [
    "x_train_gray.shape"
   ]
  },
  {
   "cell_type": "code",
   "execution_count": 26,
   "metadata": {
    "_uuid": "73603c27f097de4a366ca2951af7f3b09272a768",
    "colab": {
     "base_uri": "https://localhost:8080/",
     "height": 335
    },
    "colab_type": "code",
    "id": "dR3Pj5aZHweK",
    "outputId": "f9edd43f-5503-47b7-e878-40f736a9bd47"
   },
   "outputs": [
    {
     "data": {
      "image/png": "[encoded data removed]",
      "text/plain": [
       "<Figure size 1440x360 with 10 Axes>"
      ]
     },
     "metadata": {},
     "output_type": "display_data"
    }
   ],
   "source": [
    "fig, axes = plt.subplots(2,5,figsize=(20,5))\n",
    "for img, y, ax, i in zip (x_train_gray[index,:,:,0], y_train[index], axes.flatten(), range(10)):\n",
    "  ax.set_title(format(labels[i]))\n",
    "  ax.imshow(img, cmap=plt.get_cmap('gray'))\n",
    "plt.show()"
   ]
  },
  {
   "cell_type": "code",
   "execution_count": 20,
   "metadata": {},
   "outputs": [
    {
     "ename": "TypeError",
     "evalue": "data type not understood",
     "output_type": "error",
     "traceback": [
      "\u001b[1;31m---------------------------------------------------------------------------\u001b[0m",
      "\u001b[1;31mTypeError\u001b[0m                                 Traceback (most recent call last)",
      "\u001b[1;32m<ipython-input-20-6d421eabee27>\u001b[0m in \u001b[0;36m<module>\u001b[1;34m\u001b[0m\n\u001b[1;32m----> 1\u001b[1;33m \u001b[0max_img\u001b[0m\u001b[1;33m,\u001b[0m \u001b[0max_hist\u001b[0m\u001b[1;33m,\u001b[0m \u001b[0max_cdf\u001b[0m \u001b[1;33m=\u001b[0m \u001b[0mgrayscale\u001b[0m\u001b[1;33m(\u001b[0m\u001b[0mimg\u001b[0m\u001b[1;33m,\u001b[0m \u001b[0maxes\u001b[0m\u001b[1;33m[\u001b[0m\u001b[1;33m:\u001b[0m\u001b[1;33m,\u001b[0m \u001b[1;36m0\u001b[0m\u001b[1;33m]\u001b[0m\u001b[1;33m)\u001b[0m\u001b[1;33m\u001b[0m\u001b[1;33m\u001b[0m\u001b[0m\n\u001b[0m\u001b[0;32m      2\u001b[0m \u001b[0mplt\u001b[0m\u001b[1;33m.\u001b[0m\u001b[0mshow\u001b[0m\u001b[1;33m(\u001b[0m\u001b[1;33m)\u001b[0m\u001b[1;33m\u001b[0m\u001b[1;33m\u001b[0m\u001b[0m\n",
      "\u001b[1;32m<ipython-input-8-59593c96a614>\u001b[0m in \u001b[0;36mgrayscale\u001b[1;34m(data, dtype)\u001b[0m\n\u001b[0;32m      1\u001b[0m \u001b[1;32mdef\u001b[0m \u001b[0mgrayscale\u001b[0m\u001b[1;33m(\u001b[0m\u001b[0mdata\u001b[0m\u001b[1;33m,\u001b[0m \u001b[0mdtype\u001b[0m\u001b[1;33m=\u001b[0m\u001b[1;34m'float32'\u001b[0m\u001b[1;33m)\u001b[0m\u001b[1;33m:\u001b[0m\u001b[1;33m\u001b[0m\u001b[1;33m\u001b[0m\u001b[0m\n\u001b[0;32m      2\u001b[0m     \u001b[1;31m# luma coding weighted average in video systems\u001b[0m\u001b[1;33m\u001b[0m\u001b[1;33m\u001b[0m\u001b[1;33m\u001b[0m\u001b[0m\n\u001b[1;32m----> 3\u001b[1;33m     \u001b[0mr\u001b[0m\u001b[1;33m,\u001b[0m \u001b[0mg\u001b[0m\u001b[1;33m,\u001b[0m \u001b[0mb\u001b[0m \u001b[1;33m=\u001b[0m \u001b[0mnp\u001b[0m\u001b[1;33m.\u001b[0m\u001b[0masarray\u001b[0m\u001b[1;33m(\u001b[0m\u001b[1;36m.3\u001b[0m\u001b[1;33m,\u001b[0m \u001b[0mdtype\u001b[0m\u001b[1;33m=\u001b[0m\u001b[0mdtype\u001b[0m\u001b[1;33m)\u001b[0m\u001b[1;33m,\u001b[0m \u001b[0mnp\u001b[0m\u001b[1;33m.\u001b[0m\u001b[0masarray\u001b[0m\u001b[1;33m(\u001b[0m\u001b[1;36m.59\u001b[0m\u001b[1;33m,\u001b[0m \u001b[0mdtype\u001b[0m\u001b[1;33m=\u001b[0m\u001b[0mdtype\u001b[0m\u001b[1;33m)\u001b[0m\u001b[1;33m,\u001b[0m \u001b[0mnp\u001b[0m\u001b[1;33m.\u001b[0m\u001b[0masarray\u001b[0m\u001b[1;33m(\u001b[0m\u001b[1;36m.11\u001b[0m\u001b[1;33m,\u001b[0m \u001b[0mdtype\u001b[0m\u001b[1;33m=\u001b[0m\u001b[0mdtype\u001b[0m\u001b[1;33m)\u001b[0m\u001b[1;33m\u001b[0m\u001b[1;33m\u001b[0m\u001b[0m\n\u001b[0m\u001b[0;32m      4\u001b[0m     \u001b[0mrst\u001b[0m \u001b[1;33m=\u001b[0m \u001b[0mr\u001b[0m \u001b[1;33m*\u001b[0m \u001b[0mdata\u001b[0m\u001b[1;33m[\u001b[0m\u001b[1;33m:\u001b[0m\u001b[1;33m,\u001b[0m \u001b[1;33m:\u001b[0m\u001b[1;33m,\u001b[0m \u001b[1;33m:\u001b[0m\u001b[1;33m,\u001b[0m \u001b[1;36m0\u001b[0m\u001b[1;33m]\u001b[0m \u001b[1;33m+\u001b[0m \u001b[0mg\u001b[0m \u001b[1;33m*\u001b[0m \u001b[0mdata\u001b[0m\u001b[1;33m[\u001b[0m\u001b[1;33m:\u001b[0m\u001b[1;33m,\u001b[0m \u001b[1;33m:\u001b[0m\u001b[1;33m,\u001b[0m \u001b[1;33m:\u001b[0m\u001b[1;33m,\u001b[0m \u001b[1;36m1\u001b[0m\u001b[1;33m]\u001b[0m \u001b[1;33m+\u001b[0m \u001b[0mb\u001b[0m \u001b[1;33m*\u001b[0m \u001b[0mdata\u001b[0m\u001b[1;33m[\u001b[0m\u001b[1;33m:\u001b[0m\u001b[1;33m,\u001b[0m \u001b[1;33m:\u001b[0m\u001b[1;33m,\u001b[0m \u001b[1;33m:\u001b[0m\u001b[1;33m,\u001b[0m \u001b[1;36m2\u001b[0m\u001b[1;33m]\u001b[0m\u001b[1;33m\u001b[0m\u001b[1;33m\u001b[0m\u001b[0m\n\u001b[0;32m      5\u001b[0m     \u001b[1;31m# add channel dimension\u001b[0m\u001b[1;33m\u001b[0m\u001b[1;33m\u001b[0m\u001b[1;33m\u001b[0m\u001b[0m\n",
      "\u001b[1;32m~\\Anaconda3\\lib\\site-packages\\numpy\\core\\numeric.py\u001b[0m in \u001b[0;36masarray\u001b[1;34m(a, dtype, order)\u001b[0m\n\u001b[0;32m    499\u001b[0m \u001b[1;33m\u001b[0m\u001b[0m\n\u001b[0;32m    500\u001b[0m     \"\"\"\n\u001b[1;32m--> 501\u001b[1;33m     \u001b[1;32mreturn\u001b[0m \u001b[0marray\u001b[0m\u001b[1;33m(\u001b[0m\u001b[0ma\u001b[0m\u001b[1;33m,\u001b[0m \u001b[0mdtype\u001b[0m\u001b[1;33m,\u001b[0m \u001b[0mcopy\u001b[0m\u001b[1;33m=\u001b[0m\u001b[1;32mFalse\u001b[0m\u001b[1;33m,\u001b[0m \u001b[0morder\u001b[0m\u001b[1;33m=\u001b[0m\u001b[0morder\u001b[0m\u001b[1;33m)\u001b[0m\u001b[1;33m\u001b[0m\u001b[1;33m\u001b[0m\u001b[0m\n\u001b[0m\u001b[0;32m    502\u001b[0m \u001b[1;33m\u001b[0m\u001b[0m\n\u001b[0;32m    503\u001b[0m \u001b[1;33m\u001b[0m\u001b[0m\n",
      "\u001b[1;31mTypeError\u001b[0m: data type not understood"
     ]
    }
   ],
   "source": [
    "ax_img, ax_hist, ax_cdf = plot_img_and_hist(img, axes[:, 0])\n",
    "plt.show()"
   ]
  },
  {
   "cell_type": "markdown",
   "metadata": {
    "_uuid": "6fb69bfb0a2f7db88abe0e945b13e8bae4ec92ae",
    "colab_type": "text",
    "id": "P3fnneZKTV8-"
   },
   "source": [
    "## 2. Klasifikasi dengan Multilayer Perceptron (20 poin)\n",
    "\n",
    "*Petunjuk: Karena melatih dalam 50 epochs dapat memakan waktu. Anda dapat menyelesaikan bagian 2 dan 3 dari tugas ini dengan menggunakan 10 epochs terlebih dahulu. Jika semua kode sudah bekerja dengan baik, Anda dapat menambahkan jumlah epochs menjadi 50 kemudian.*"
   ]
  },
  {
   "cell_type": "markdown",
   "metadata": {
    "_uuid": "eefc27bc6fbafa16de59995c76284b0eddc4696a",
    "colab_type": "text",
    "id": "N15Q7LxPTV9h"
   },
   "source": [
    "### Soal 2.1 (2 poin)\n",
    "\n",
    "Buatlah model Multilayer Perceptron (MLP) dengan input berupa gambar dalam hitam-putih. Gunakan satu hidden layer dengan 1200 ReLU hidden units."
   ]
  },
  {
   "cell_type": "code",
   "execution_count": 27,
   "metadata": {
    "_uuid": "160b6a60bed74cbfd804be51bbdf302ae8e18ae4"
   },
   "outputs": [],
   "source": [
    "from sklearn.model_selection import train_test_split"
   ]
  },
  {
   "cell_type": "code",
   "execution_count": 28,
   "metadata": {
    "_uuid": "cf7e815b5090e5949ad9c287f7b447b730ef956d",
    "colab": {},
    "colab_type": "code",
    "id": "21eonwzNTV93"
   },
   "outputs": [],
   "source": [
    "def mlp():\n",
    "    model = tf.keras.models.Sequential([\n",
    "        tf.keras.layers.Flatten(),\n",
    "        tf.keras.layers.Dense(1200, activation='relu')\n",
    "    ])\n",
    "    return model"
   ]
  },
  {
   "cell_type": "markdown",
   "metadata": {
    "_uuid": "c7afc35571bf7809845fd8419cee8d1ff4da9778",
    "colab_type": "text",
    "id": "T87WDn3nTV_x"
   },
   "source": [
    "### Soal 2.2.a (3 poin)\n",
    "\n",
    "Latih model yang telah Anda buat dengan *training set*. Gunakan Adam sebagai optimizer dari model Anda, `categorical_crossentropy` atau `sparse_categorical_entropy` sebagai *loss function*, 50 epochs, `validation_split` 0.2, dan akurasi sebagai *metric*. Berapa persen akurasi pada data latih dan data validasi dari model yang dihasilkan?\n",
    "\n",
    "*Catatan: Anda mungkin saja perlu mengubah nilai gambar menjadi [0,1]. Selain itu, perlu ada perubahan dari dimensi y_train dan y_test.*"
   ]
  },
  {
   "cell_type": "code",
   "execution_count": 29,
   "metadata": {
    "_uuid": "fa7f667f0cf1222b90c25be4e5401377e79e11be"
   },
   "outputs": [],
   "source": [
    "from keras.models import Sequential\n",
    "from keras import models\n",
    "from keras import layers\n",
    "from keras import optimizers\n",
    "from keras.layers.core import Dense, Dropout, Flatten\n",
    "\n",
    "x_train_gray, x_val, y_train, y_val = train_test_split(x_train_gray,y_train,test_size=0.2,random_state=2510)"
   ]
  },
  {
   "cell_type": "code",
   "execution_count": 30,
   "metadata": {
    "_uuid": "002abafba1894aa3c3f2360bcdf2a1d118b8f85f",
    "colab": {},
    "colab_type": "code",
    "id": "ZZoE2W92TWAO"
   },
   "outputs": [
    {
     "name": "stdout",
     "output_type": "stream",
     "text": [
      "Train on 40000 samples, validate on 10000 samples\n",
      "Epoch 1/50\n",
      "40000/40000 [==============================] - 2s 61us/step - loss: 38731.4035 - acc: 5.5000e-04 - val_loss: 38172.8507 - val_acc: 0.0028\n",
      "Epoch 2/50\n",
      "40000/40000 [==============================] - 2s 54us/step - loss: 38411.4730 - acc: 0.0024 - val_loss: 38170.8475 - val_acc: 0.0045\n",
      "Epoch 3/50\n",
      "40000/40000 [==============================] - 2s 54us/step - loss: 38410.0378 - acc: 0.0029 - val_loss: 38169.8112 - val_acc: 0.0045\n",
      "Epoch 4/50\n",
      "40000/40000 [==============================] - 2s 54us/step - loss: 38409.2098 - acc: 0.0029 - val_loss: 38169.1576 - val_acc: 0.0043\n",
      "Epoch 5/50\n",
      "40000/40000 [==============================] - 2s 54us/step - loss: 38408.6630 - acc: 0.0027 - val_loss: 38168.7048 - val_acc: 0.0036\n",
      "Epoch 6/50\n",
      "40000/40000 [==============================] - 2s 53us/step - loss: 38408.2739 - acc: 0.0026 - val_loss: 38168.3735 - val_acc: 0.0034\n",
      "Epoch 7/50\n",
      "40000/40000 [==============================] - 2s 53us/step - loss: 38407.9826 - acc: 0.0028 - val_loss: 38168.1201 - val_acc: 0.0039\n",
      "Epoch 8/50\n",
      "40000/40000 [==============================] - 2s 54us/step - loss: 38407.7568 - acc: 0.0027 - val_loss: 38167.9206 - val_acc: 0.0033\n",
      "Epoch 9/50\n",
      "40000/40000 [==============================] - 2s 54us/step - loss: 38407.5771 - acc: 0.0025 - val_loss: 38167.7599 - val_acc: 0.0030\n",
      "Epoch 10/50\n",
      "40000/40000 [==============================] - 2s 54us/step - loss: 38407.4312 - acc: 0.0024 - val_loss: 38167.6281 - val_acc: 0.0030\n",
      "Epoch 11/50\n",
      "40000/40000 [==============================] - 2s 54us/step - loss: 38407.3111 - acc: 0.0026 - val_loss: 38167.5192 - val_acc: 0.0023\n",
      "Epoch 12/50\n",
      "40000/40000 [==============================] - 2s 54us/step - loss: 38407.2110 - acc: 0.0024 - val_loss: 38167.4275 - val_acc: 0.0022\n",
      "Epoch 13/50\n",
      "40000/40000 [==============================] - 2s 54us/step - loss: 38407.1267 - acc: 0.0025 - val_loss: 38167.3507 - val_acc: 0.0035\n",
      "Epoch 14/50\n",
      "40000/40000 [==============================] - 2s 54us/step - loss: 38407.0553 - acc: 0.0026 - val_loss: 38167.2845 - val_acc: 0.0023\n",
      "Epoch 15/50\n",
      "40000/40000 [==============================] - 2s 54us/step - loss: 38406.9943 - acc: 0.0025 - val_loss: 38167.2282 - val_acc: 0.0022\n",
      "Epoch 16/50\n",
      "40000/40000 [==============================] - 2s 54us/step - loss: 38406.9424 - acc: 0.0026 - val_loss: 38167.1798 - val_acc: 0.0036\n",
      "Epoch 17/50\n",
      "40000/40000 [==============================] - 2s 54us/step - loss: 38406.8978 - acc: 0.0023 - val_loss: 38167.1387 - val_acc: 0.0026\n",
      "Epoch 18/50\n",
      "40000/40000 [==============================] - 2s 53us/step - loss: 38406.8594 - acc: 0.0023 - val_loss: 38167.1030 - val_acc: 0.0023\n",
      "Epoch 19/50\n",
      "40000/40000 [==============================] - 2s 54us/step - loss: 38406.8265 - acc: 0.0020 - val_loss: 38167.0725 - val_acc: 0.0022\n",
      "Epoch 20/50\n",
      "40000/40000 [==============================] - 2s 53us/step - loss: 38406.7978 - acc: 0.0021 - val_loss: 38167.0459 - val_acc: 0.0020\n",
      "Epoch 21/50\n",
      "40000/40000 [==============================] - 2s 54us/step - loss: 38406.7731 - acc: 0.0020 - val_loss: 38167.0230 - val_acc: 0.0028\n",
      "Epoch 22/50\n",
      "40000/40000 [==============================] - 2s 54us/step - loss: 38406.7522 - acc: 0.0020 - val_loss: 38167.0026 - val_acc: 0.0025\n",
      "Epoch 23/50\n",
      "40000/40000 [==============================] - 2s 53us/step - loss: 38406.7340 - acc: 0.0018 - val_loss: 38166.9855 - val_acc: 0.0021\n",
      "Epoch 24/50\n",
      "40000/40000 [==============================] - 2s 54us/step - loss: 38406.7180 - acc: 0.0016 - val_loss: 38166.9715 - val_acc: 1.0000e-03\n",
      "Epoch 25/50\n",
      "40000/40000 [==============================] - 2s 53us/step - loss: 38406.7046 - acc: 0.0014 - val_loss: 38166.9587 - val_acc: 8.0000e-04\n",
      "Epoch 26/50\n",
      "40000/40000 [==============================] - 2s 53us/step - loss: 38406.6930 - acc: 0.0013 - val_loss: 38166.9477 - val_acc: 7.0000e-04\n",
      "Epoch 27/50\n",
      "40000/40000 [==============================] - 2s 53us/step - loss: 38406.6829 - acc: 0.0012 - val_loss: 38166.9388 - val_acc: 0.0019\n",
      "Epoch 28/50\n",
      "40000/40000 [==============================] - 2s 53us/step - loss: 38406.6743 - acc: 0.0010 - val_loss: 38166.9308 - val_acc: 0.0029\n",
      "Epoch 29/50\n",
      "40000/40000 [==============================] - 2s 53us/step - loss: 38406.6671 - acc: 8.7500e-04 - val_loss: 38166.9234 - val_acc: 9.0000e-04\n",
      "Epoch 30/50\n",
      "40000/40000 [==============================] - 2s 54us/step - loss: 38406.6608 - acc: 9.7500e-04 - val_loss: 38166.9173 - val_acc: 8.0000e-04\n",
      "Epoch 31/50\n",
      "40000/40000 [==============================] - 2s 54us/step - loss: 38406.6555 - acc: 9.0000e-04 - val_loss: 38166.9126 - val_acc: 6.0000e-04\n",
      "Epoch 32/50\n",
      "40000/40000 [==============================] - 2s 53us/step - loss: 38406.6510 - acc: 7.2500e-04 - val_loss: 38166.9084 - val_acc: 0.0019\n",
      "Epoch 33/50\n",
      "40000/40000 [==============================] - 2s 53us/step - loss: 38406.6471 - acc: 6.5000e-04 - val_loss: 38166.9045 - val_acc: 0.0012\n",
      "Epoch 34/50\n",
      "40000/40000 [==============================] - 2s 56us/step - loss: 38406.6439 - acc: 7.2500e-04 - val_loss: 38166.9006 - val_acc: 1.0000e-04\n",
      "Epoch 35/50\n",
      "40000/40000 [==============================] - 2s 55us/step - loss: 38406.6412 - acc: 5.2500e-04 - val_loss: 38166.8985 - val_acc: 0.0015\n",
      "Epoch 36/50\n",
      "40000/40000 [==============================] - 2s 53us/step - loss: 38406.6389 - acc: 8.5000e-04 - val_loss: 38166.8964 - val_acc: 3.0000e-04\n",
      "Epoch 37/50\n",
      "40000/40000 [==============================] - 2s 55us/step - loss: 38406.6367 - acc: 8.0000e-04 - val_loss: 38166.8941 - val_acc: 9.0000e-04\n",
      "Epoch 38/50\n",
      "40000/40000 [==============================] - 2s 56us/step - loss: 38406.6352 - acc: 4.7500e-04 - val_loss: 38166.8937 - val_acc: 0.0000e+00\n",
      "Epoch 39/50\n",
      "40000/40000 [==============================] - 2s 55us/step - loss: 38406.6337 - acc: 4.2500e-04 - val_loss: 38166.8930 - val_acc: 0.0000e+00\n",
      "Epoch 40/50\n",
      "40000/40000 [==============================] - 2s 55us/step - loss: 38406.6324 - acc: 4.2500e-04 - val_loss: 38166.8921 - val_acc: 5.0000e-04\n",
      "Epoch 41/50\n",
      "40000/40000 [==============================] - 2s 56us/step - loss: 38406.6316 - acc: 4.0000e-04 - val_loss: 38166.8887 - val_acc: 1.0000e-04\n",
      "Epoch 42/50\n",
      "40000/40000 [==============================] - 2s 54us/step - loss: 38406.6306 - acc: 3.5000e-04 - val_loss: 38166.8883 - val_acc: 4.0000e-04\n",
      "Epoch 43/50\n",
      "40000/40000 [==============================] - 2s 54us/step - loss: 38406.6298 - acc: 3.5000e-04 - val_loss: 38166.8882 - val_acc: 0.0000e+00\n",
      "Epoch 44/50\n",
      "40000/40000 [==============================] - 2s 54us/step - loss: 38406.6291 - acc: 7.0000e-04 - val_loss: 38166.8867 - val_acc: 3.0000e-04\n",
      "Epoch 45/50\n",
      "40000/40000 [==============================] - 2s 54us/step - loss: 38406.6286 - acc: 7.2500e-04 - val_loss: 38166.8866 - val_acc: 1.0000e-04\n",
      "Epoch 46/50\n",
      "40000/40000 [==============================] - 2s 53us/step - loss: 38406.6282 - acc: 8.7500e-04 - val_loss: 38166.8891 - val_acc: 0.0000e+00\n",
      "Epoch 47/50\n",
      "40000/40000 [==============================] - 2s 54us/step - loss: 38406.6276 - acc: 4.7500e-04 - val_loss: 38166.8875 - val_acc: 0.0000e+00\n",
      "Epoch 48/50\n",
      "40000/40000 [==============================] - 2s 54us/step - loss: 38406.6276 - acc: 8.0000e-04 - val_loss: 38166.8883 - val_acc: 1.0000e-04\n",
      "Epoch 49/50\n",
      "40000/40000 [==============================] - 2s 54us/step - loss: 38406.6272 - acc: 7.2500e-04 - val_loss: 38166.8854 - val_acc: 0.0043\n",
      "Epoch 50/50\n",
      "40000/40000 [==============================] - 2s 55us/step - loss: 38406.6269 - acc: 0.0011 - val_loss: 38166.8846 - val_acc: 0.0000e+00\n",
      "_________________________________________________________________\n",
      "Layer (type)                 Output Shape              Param #   \n",
      "=================================================================\n",
      "flatten_1 (Flatten)          multiple                  0         \n",
      "_________________________________________________________________\n",
      "dense_1 (Dense)              multiple                  1230000   \n",
      "=================================================================\n",
      "Total params: 1,230,000\n",
      "Trainable params: 1,230,000\n",
      "Non-trainable params: 0\n",
      "_________________________________________________________________\n"
     ]
    }
   ],
   "source": [
    "np.random.seed(42)\n",
    "\n",
    "model = mlp()\n",
    "#Compile mlp\n",
    "model.compile(loss='categorical_crossentropy',optimizer='adam',metrics=['acc'])\n",
    "# Train the model\n",
    "hist = model.fit(x_train_gray, y_train,batch_size=100,epochs=50,verbose=1,validation_data=(x_val, y_val))\n",
    "model.summary()"
   ]
  },
  {
   "cell_type": "markdown",
   "metadata": {
    "_uuid": "5333b6f3f2906411bd3ca71e78e9d629e54d5f18",
    "colab_type": "text",
    "id": "D6Hu_LH8TWBf"
   },
   "source": [
    "### Soal 2.2.b (2 poin)\n",
    "\n",
    "Gambarkan *learning curve* berupa akurasi dari data latih dan data validasi dari proses pelatihan di atas."
   ]
  },
  {
   "cell_type": "code",
   "execution_count": 31,
   "metadata": {
    "_uuid": "898625229ac32d247dc8ed3bae3017d6699e6a7d",
    "colab": {},
    "colab_type": "code",
    "id": "hT-KNksvTWCK"
   },
   "outputs": [
    {
     "data": {
      "image/png": "[encoded data removed]",
      "text/plain": [
       "<Figure size 432x288 with 1 Axes>"
      ]
     },
     "metadata": {},
     "output_type": "display_data"
    }
   ],
   "source": [
    "plt.plot(hist.history['acc'])\n",
    "plt.plot(hist.history['val_acc'])\n",
    "plt.show()"
   ]
  },
  {
   "cell_type": "markdown",
   "metadata": {
    "_uuid": "ca989fdaff1cc5985c03c49cc0580332c3791af5",
    "colab_type": "text",
    "id": "a3dejTTLTWDi"
   },
   "source": [
    "### Soal 2.3 (3 poin)\n",
    "\n",
    "Evaluasi model Anda pada data uji. Berapa akurasi yang didapatkan? Gambarkan pula *confusion matrix* dari prediksi yang Anda hasilkan terhadap nilai yang sebenarnya."
   ]
  },
  {
   "cell_type": "code",
   "execution_count": 16,
   "metadata": {
    "_uuid": "b46a2c39e6ab1235f1eaf173af8f7def1946f963",
    "colab": {},
    "colab_type": "code",
    "id": "dHMq93v5TWEm"
   },
   "outputs": [
    {
     "ename": "KeyboardInterrupt",
     "evalue": "",
     "output_type": "error",
     "traceback": [
      "\u001b[0;31m---------------------------------------------------------------------------\u001b[0m",
      "\u001b[0;31mKeyboardInterrupt\u001b[0m                         Traceback (most recent call last)",
      "\u001b[0;32m<ipython-input-16-c34a512bb9e1>\u001b[0m in \u001b[0;36m<module>\u001b[0;34m()\u001b[0m\n\u001b[1;32m      9\u001b[0m \u001b[0max\u001b[0m\u001b[0;34m.\u001b[0m\u001b[0mset_ylabel\u001b[0m\u001b[0;34m(\u001b[0m\u001b[0;34m'True Label'\u001b[0m\u001b[0;34m)\u001b[0m\u001b[0;34m\u001b[0m\u001b[0m\n\u001b[1;32m     10\u001b[0m \u001b[0max\u001b[0m\u001b[0;34m.\u001b[0m\u001b[0mset_xlabel\u001b[0m\u001b[0;34m(\u001b[0m\u001b[0;34m'Predicted Label'\u001b[0m\u001b[0;34m)\u001b[0m\u001b[0;34m\u001b[0m\u001b[0m\n\u001b[0;32m---> 11\u001b[0;31m \u001b[0mplt\u001b[0m\u001b[0;34m.\u001b[0m\u001b[0mshow\u001b[0m\u001b[0;34m(\u001b[0m\u001b[0;34m)\u001b[0m\u001b[0;34m\u001b[0m\u001b[0m\n\u001b[0m",
      "\u001b[0;32m/opt/conda/lib/python3.6/site-packages/matplotlib/pyplot.py\u001b[0m in \u001b[0;36mshow\u001b[0;34m(*args, **kw)\u001b[0m\n\u001b[1;32m    251\u001b[0m     \"\"\"\n\u001b[1;32m    252\u001b[0m     \u001b[0;32mglobal\u001b[0m \u001b[0m_show\u001b[0m\u001b[0;34m\u001b[0m\u001b[0m\n\u001b[0;32m--> 253\u001b[0;31m     \u001b[0;32mreturn\u001b[0m \u001b[0m_show\u001b[0m\u001b[0;34m(\u001b[0m\u001b[0;34m*\u001b[0m\u001b[0margs\u001b[0m\u001b[0;34m,\u001b[0m \u001b[0;34m**\u001b[0m\u001b[0mkw\u001b[0m\u001b[0;34m)\u001b[0m\u001b[0;34m\u001b[0m\u001b[0m\n\u001b[0m\u001b[1;32m    254\u001b[0m \u001b[0;34m\u001b[0m\u001b[0m\n\u001b[1;32m    255\u001b[0m \u001b[0;34m\u001b[0m\u001b[0m\n",
      "\u001b[0;32m/opt/conda/lib/python3.6/site-packages/ipykernel/pylab/backend_inline.py\u001b[0m in \u001b[0;36mshow\u001b[0;34m(close, block)\u001b[0m\n\u001b[1;32m     34\u001b[0m     \u001b[0;32mtry\u001b[0m\u001b[0;34m:\u001b[0m\u001b[0;34m\u001b[0m\u001b[0m\n\u001b[1;32m     35\u001b[0m         \u001b[0;32mfor\u001b[0m \u001b[0mfigure_manager\u001b[0m \u001b[0;32min\u001b[0m \u001b[0mGcf\u001b[0m\u001b[0;34m.\u001b[0m\u001b[0mget_all_fig_managers\u001b[0m\u001b[0;34m(\u001b[0m\u001b[0;34m)\u001b[0m\u001b[0;34m:\u001b[0m\u001b[0;34m\u001b[0m\u001b[0m\n\u001b[0;32m---> 36\u001b[0;31m             \u001b[0mdisplay\u001b[0m\u001b[0;34m(\u001b[0m\u001b[0mfigure_manager\u001b[0m\u001b[0;34m.\u001b[0m\u001b[0mcanvas\u001b[0m\u001b[0;34m.\u001b[0m\u001b[0mfigure\u001b[0m\u001b[0;34m)\u001b[0m\u001b[0;34m\u001b[0m\u001b[0m\n\u001b[0m\u001b[1;32m     37\u001b[0m     \u001b[0;32mfinally\u001b[0m\u001b[0;34m:\u001b[0m\u001b[0;34m\u001b[0m\u001b[0m\n\u001b[1;32m     38\u001b[0m         \u001b[0mshow\u001b[0m\u001b[0;34m.\u001b[0m\u001b[0m_to_draw\u001b[0m \u001b[0;34m=\u001b[0m \u001b[0;34m[\u001b[0m\u001b[0;34m]\u001b[0m\u001b[0;34m\u001b[0m\u001b[0m\n",
      "\u001b[0;32m/opt/conda/lib/python3.6/site-packages/IPython/core/display.py\u001b[0m in \u001b[0;36mdisplay\u001b[0;34m(include, exclude, metadata, transient, display_id, *objs, **kwargs)\u001b[0m\n\u001b[1;32m    296\u001b[0m             \u001b[0mpublish_display_data\u001b[0m\u001b[0;34m(\u001b[0m\u001b[0mdata\u001b[0m\u001b[0;34m=\u001b[0m\u001b[0mobj\u001b[0m\u001b[0;34m,\u001b[0m \u001b[0mmetadata\u001b[0m\u001b[0;34m=\u001b[0m\u001b[0mmetadata\u001b[0m\u001b[0;34m,\u001b[0m \u001b[0;34m**\u001b[0m\u001b[0mkwargs\u001b[0m\u001b[0;34m)\u001b[0m\u001b[0;34m\u001b[0m\u001b[0m\n\u001b[1;32m    297\u001b[0m         \u001b[0;32melse\u001b[0m\u001b[0;34m:\u001b[0m\u001b[0;34m\u001b[0m\u001b[0m\n\u001b[0;32m--> 298\u001b[0;31m             \u001b[0mformat_dict\u001b[0m\u001b[0;34m,\u001b[0m \u001b[0mmd_dict\u001b[0m \u001b[0;34m=\u001b[0m \u001b[0mformat\u001b[0m\u001b[0;34m(\u001b[0m\u001b[0mobj\u001b[0m\u001b[0;34m,\u001b[0m \u001b[0minclude\u001b[0m\u001b[0;34m=\u001b[0m\u001b[0minclude\u001b[0m\u001b[0;34m,\u001b[0m \u001b[0mexclude\u001b[0m\u001b[0;34m=\u001b[0m\u001b[0mexclude\u001b[0m\u001b[0;34m)\u001b[0m\u001b[0;34m\u001b[0m\u001b[0m\n\u001b[0m\u001b[1;32m    299\u001b[0m             \u001b[0;32mif\u001b[0m \u001b[0;32mnot\u001b[0m \u001b[0mformat_dict\u001b[0m\u001b[0;34m:\u001b[0m\u001b[0;34m\u001b[0m\u001b[0m\n\u001b[1;32m    300\u001b[0m                 \u001b[0;31m# nothing to display (e.g. _ipython_display_ took over)\u001b[0m\u001b[0;34m\u001b[0m\u001b[0;34m\u001b[0m\u001b[0m\n",
      "\u001b[0;32m/opt/conda/lib/python3.6/site-packages/IPython/core/formatters.py\u001b[0m in \u001b[0;36mformat\u001b[0;34m(self, obj, include, exclude)\u001b[0m\n\u001b[1;32m    178\u001b[0m             \u001b[0mmd\u001b[0m \u001b[0;34m=\u001b[0m \u001b[0;32mNone\u001b[0m\u001b[0;34m\u001b[0m\u001b[0m\n\u001b[1;32m    179\u001b[0m             \u001b[0;32mtry\u001b[0m\u001b[0;34m:\u001b[0m\u001b[0;34m\u001b[0m\u001b[0m\n\u001b[0;32m--> 180\u001b[0;31m                 \u001b[0mdata\u001b[0m \u001b[0;34m=\u001b[0m \u001b[0mformatter\u001b[0m\u001b[0;34m(\u001b[0m\u001b[0mobj\u001b[0m\u001b[0;34m)\u001b[0m\u001b[0;34m\u001b[0m\u001b[0m\n\u001b[0m\u001b[1;32m    181\u001b[0m             \u001b[0;32mexcept\u001b[0m\u001b[0;34m:\u001b[0m\u001b[0;34m\u001b[0m\u001b[0m\n\u001b[1;32m    182\u001b[0m                 \u001b[0;31m# FIXME: log the exception\u001b[0m\u001b[0;34m\u001b[0m\u001b[0;34m\u001b[0m\u001b[0m\n",
      "\u001b[0;32m<decorator-gen-9>\u001b[0m in \u001b[0;36m__call__\u001b[0;34m(self, obj)\u001b[0m\n",
      "\u001b[0;32m/opt/conda/lib/python3.6/site-packages/IPython/core/formatters.py\u001b[0m in \u001b[0;36mcatch_format_error\u001b[0;34m(method, self, *args, **kwargs)\u001b[0m\n\u001b[1;32m    222\u001b[0m     \u001b[0;34m\"\"\"show traceback on failed format call\"\"\"\u001b[0m\u001b[0;34m\u001b[0m\u001b[0m\n\u001b[1;32m    223\u001b[0m     \u001b[0;32mtry\u001b[0m\u001b[0;34m:\u001b[0m\u001b[0;34m\u001b[0m\u001b[0m\n\u001b[0;32m--> 224\u001b[0;31m         \u001b[0mr\u001b[0m \u001b[0;34m=\u001b[0m \u001b[0mmethod\u001b[0m\u001b[0;34m(\u001b[0m\u001b[0mself\u001b[0m\u001b[0;34m,\u001b[0m \u001b[0;34m*\u001b[0m\u001b[0margs\u001b[0m\u001b[0;34m,\u001b[0m \u001b[0;34m**\u001b[0m\u001b[0mkwargs\u001b[0m\u001b[0;34m)\u001b[0m\u001b[0;34m\u001b[0m\u001b[0m\n\u001b[0m\u001b[1;32m    225\u001b[0m     \u001b[0;32mexcept\u001b[0m \u001b[0mNotImplementedError\u001b[0m\u001b[0;34m:\u001b[0m\u001b[0;34m\u001b[0m\u001b[0m\n\u001b[1;32m    226\u001b[0m         \u001b[0;31m# don't warn on NotImplementedErrors\u001b[0m\u001b[0;34m\u001b[0m\u001b[0;34m\u001b[0m\u001b[0m\n",
      "\u001b[0;32m/opt/conda/lib/python3.6/site-packages/IPython/core/formatters.py\u001b[0m in \u001b[0;36m__call__\u001b[0;34m(self, obj)\u001b[0m\n\u001b[1;32m    339\u001b[0m                 \u001b[0;32mpass\u001b[0m\u001b[0;34m\u001b[0m\u001b[0m\n\u001b[1;32m    340\u001b[0m             \u001b[0;32melse\u001b[0m\u001b[0;34m:\u001b[0m\u001b[0;34m\u001b[0m\u001b[0m\n\u001b[0;32m--> 341\u001b[0;31m                 \u001b[0;32mreturn\u001b[0m \u001b[0mprinter\u001b[0m\u001b[0;34m(\u001b[0m\u001b[0mobj\u001b[0m\u001b[0;34m)\u001b[0m\u001b[0;34m\u001b[0m\u001b[0m\n\u001b[0m\u001b[1;32m    342\u001b[0m             \u001b[0;31m# Finally look for special method names\u001b[0m\u001b[0;34m\u001b[0m\u001b[0;34m\u001b[0m\u001b[0m\n\u001b[1;32m    343\u001b[0m             \u001b[0mmethod\u001b[0m \u001b[0;34m=\u001b[0m \u001b[0mget_real_method\u001b[0m\u001b[0;34m(\u001b[0m\u001b[0mobj\u001b[0m\u001b[0;34m,\u001b[0m \u001b[0mself\u001b[0m\u001b[0;34m.\u001b[0m\u001b[0mprint_method\u001b[0m\u001b[0;34m)\u001b[0m\u001b[0;34m\u001b[0m\u001b[0m\n",
      "\u001b[0;32m/opt/conda/lib/python3.6/site-packages/IPython/core/pylabtools.py\u001b[0m in \u001b[0;36m<lambda>\u001b[0;34m(fig)\u001b[0m\n\u001b[1;32m    239\u001b[0m \u001b[0;34m\u001b[0m\u001b[0m\n\u001b[1;32m    240\u001b[0m     \u001b[0;32mif\u001b[0m \u001b[0;34m'png'\u001b[0m \u001b[0;32min\u001b[0m \u001b[0mformats\u001b[0m\u001b[0;34m:\u001b[0m\u001b[0;34m\u001b[0m\u001b[0m\n\u001b[0;32m--> 241\u001b[0;31m         \u001b[0mpng_formatter\u001b[0m\u001b[0;34m.\u001b[0m\u001b[0mfor_type\u001b[0m\u001b[0;34m(\u001b[0m\u001b[0mFigure\u001b[0m\u001b[0;34m,\u001b[0m \u001b[0;32mlambda\u001b[0m \u001b[0mfig\u001b[0m\u001b[0;34m:\u001b[0m \u001b[0mprint_figure\u001b[0m\u001b[0;34m(\u001b[0m\u001b[0mfig\u001b[0m\u001b[0;34m,\u001b[0m \u001b[0;34m'png'\u001b[0m\u001b[0;34m,\u001b[0m \u001b[0;34m**\u001b[0m\u001b[0mkwargs\u001b[0m\u001b[0;34m)\u001b[0m\u001b[0;34m)\u001b[0m\u001b[0;34m\u001b[0m\u001b[0m\n\u001b[0m\u001b[1;32m    242\u001b[0m     \u001b[0;32mif\u001b[0m \u001b[0;34m'retina'\u001b[0m \u001b[0;32min\u001b[0m \u001b[0mformats\u001b[0m \u001b[0;32mor\u001b[0m \u001b[0;34m'png2x'\u001b[0m \u001b[0;32min\u001b[0m \u001b[0mformats\u001b[0m\u001b[0;34m:\u001b[0m\u001b[0;34m\u001b[0m\u001b[0m\n\u001b[1;32m    243\u001b[0m         \u001b[0mpng_formatter\u001b[0m\u001b[0;34m.\u001b[0m\u001b[0mfor_type\u001b[0m\u001b[0;34m(\u001b[0m\u001b[0mFigure\u001b[0m\u001b[0;34m,\u001b[0m \u001b[0;32mlambda\u001b[0m \u001b[0mfig\u001b[0m\u001b[0;34m:\u001b[0m \u001b[0mretina_figure\u001b[0m\u001b[0;34m(\u001b[0m\u001b[0mfig\u001b[0m\u001b[0;34m,\u001b[0m \u001b[0;34m**\u001b[0m\u001b[0mkwargs\u001b[0m\u001b[0;34m)\u001b[0m\u001b[0;34m)\u001b[0m\u001b[0;34m\u001b[0m\u001b[0m\n",
      "\u001b[0;32m/opt/conda/lib/python3.6/site-packages/IPython/core/pylabtools.py\u001b[0m in \u001b[0;36mprint_figure\u001b[0;34m(fig, fmt, bbox_inches, **kwargs)\u001b[0m\n\u001b[1;32m    123\u001b[0m \u001b[0;34m\u001b[0m\u001b[0m\n\u001b[1;32m    124\u001b[0m     \u001b[0mbytes_io\u001b[0m \u001b[0;34m=\u001b[0m \u001b[0mBytesIO\u001b[0m\u001b[0;34m(\u001b[0m\u001b[0;34m)\u001b[0m\u001b[0;34m\u001b[0m\u001b[0m\n\u001b[0;32m--> 125\u001b[0;31m     \u001b[0mfig\u001b[0m\u001b[0;34m.\u001b[0m\u001b[0mcanvas\u001b[0m\u001b[0;34m.\u001b[0m\u001b[0mprint_figure\u001b[0m\u001b[0;34m(\u001b[0m\u001b[0mbytes_io\u001b[0m\u001b[0;34m,\u001b[0m \u001b[0;34m**\u001b[0m\u001b[0mkw\u001b[0m\u001b[0;34m)\u001b[0m\u001b[0;34m\u001b[0m\u001b[0m\n\u001b[0m\u001b[1;32m    126\u001b[0m     \u001b[0mdata\u001b[0m \u001b[0;34m=\u001b[0m \u001b[0mbytes_io\u001b[0m\u001b[0;34m.\u001b[0m\u001b[0mgetvalue\u001b[0m\u001b[0;34m(\u001b[0m\u001b[0;34m)\u001b[0m\u001b[0;34m\u001b[0m\u001b[0m\n\u001b[1;32m    127\u001b[0m     \u001b[0;32mif\u001b[0m \u001b[0mfmt\u001b[0m \u001b[0;34m==\u001b[0m \u001b[0;34m'svg'\u001b[0m\u001b[0;34m:\u001b[0m\u001b[0;34m\u001b[0m\u001b[0m\n",
      "\u001b[0;32m/opt/conda/lib/python3.6/site-packages/matplotlib/backend_bases.py\u001b[0m in \u001b[0;36mprint_figure\u001b[0;34m(self, filename, dpi, facecolor, edgecolor, orientation, format, **kwargs)\u001b[0m\n\u001b[1;32m   2210\u001b[0m                     \u001b[0morientation\u001b[0m\u001b[0;34m=\u001b[0m\u001b[0morientation\u001b[0m\u001b[0;34m,\u001b[0m\u001b[0;34m\u001b[0m\u001b[0m\n\u001b[1;32m   2211\u001b[0m                     \u001b[0mdryrun\u001b[0m\u001b[0;34m=\u001b[0m\u001b[0;32mTrue\u001b[0m\u001b[0;34m,\u001b[0m\u001b[0;34m\u001b[0m\u001b[0m\n\u001b[0;32m-> 2212\u001b[0;31m                     **kwargs)\n\u001b[0m\u001b[1;32m   2213\u001b[0m                 \u001b[0mrenderer\u001b[0m \u001b[0;34m=\u001b[0m \u001b[0mself\u001b[0m\u001b[0;34m.\u001b[0m\u001b[0mfigure\u001b[0m\u001b[0;34m.\u001b[0m\u001b[0m_cachedRenderer\u001b[0m\u001b[0;34m\u001b[0m\u001b[0m\n\u001b[1;32m   2214\u001b[0m                 \u001b[0mbbox_inches\u001b[0m \u001b[0;34m=\u001b[0m \u001b[0mself\u001b[0m\u001b[0;34m.\u001b[0m\u001b[0mfigure\u001b[0m\u001b[0;34m.\u001b[0m\u001b[0mget_tightbbox\u001b[0m\u001b[0;34m(\u001b[0m\u001b[0mrenderer\u001b[0m\u001b[0;34m)\u001b[0m\u001b[0;34m\u001b[0m\u001b[0m\n",
      "\u001b[0;32m/opt/conda/lib/python3.6/site-packages/matplotlib/backends/backend_agg.py\u001b[0m in \u001b[0;36mprint_png\u001b[0;34m(self, filename_or_obj, *args, **kwargs)\u001b[0m\n\u001b[1;32m    515\u001b[0m \u001b[0;34m\u001b[0m\u001b[0m\n\u001b[1;32m    516\u001b[0m     \u001b[0;32mdef\u001b[0m \u001b[0mprint_png\u001b[0m\u001b[0;34m(\u001b[0m\u001b[0mself\u001b[0m\u001b[0;34m,\u001b[0m \u001b[0mfilename_or_obj\u001b[0m\u001b[0;34m,\u001b[0m \u001b[0;34m*\u001b[0m\u001b[0margs\u001b[0m\u001b[0;34m,\u001b[0m \u001b[0;34m**\u001b[0m\u001b[0mkwargs\u001b[0m\u001b[0;34m)\u001b[0m\u001b[0;34m:\u001b[0m\u001b[0;34m\u001b[0m\u001b[0m\n\u001b[0;32m--> 517\u001b[0;31m         \u001b[0mFigureCanvasAgg\u001b[0m\u001b[0;34m.\u001b[0m\u001b[0mdraw\u001b[0m\u001b[0;34m(\u001b[0m\u001b[0mself\u001b[0m\u001b[0;34m)\u001b[0m\u001b[0;34m\u001b[0m\u001b[0m\n\u001b[0m\u001b[1;32m    518\u001b[0m         \u001b[0mrenderer\u001b[0m \u001b[0;34m=\u001b[0m \u001b[0mself\u001b[0m\u001b[0;34m.\u001b[0m\u001b[0mget_renderer\u001b[0m\u001b[0;34m(\u001b[0m\u001b[0;34m)\u001b[0m\u001b[0;34m\u001b[0m\u001b[0m\n\u001b[1;32m    519\u001b[0m         \u001b[0moriginal_dpi\u001b[0m \u001b[0;34m=\u001b[0m \u001b[0mrenderer\u001b[0m\u001b[0;34m.\u001b[0m\u001b[0mdpi\u001b[0m\u001b[0;34m\u001b[0m\u001b[0m\n",
      "\u001b[0;32m/opt/conda/lib/python3.6/site-packages/matplotlib/backends/backend_agg.py\u001b[0m in \u001b[0;36mdraw\u001b[0;34m(self)\u001b[0m\n\u001b[1;32m    435\u001b[0m             \u001b[0;31m# if toolbar:\u001b[0m\u001b[0;34m\u001b[0m\u001b[0;34m\u001b[0m\u001b[0m\n\u001b[1;32m    436\u001b[0m             \u001b[0;31m#     toolbar.set_cursor(cursors.WAIT)\u001b[0m\u001b[0;34m\u001b[0m\u001b[0;34m\u001b[0m\u001b[0m\n\u001b[0;32m--> 437\u001b[0;31m             \u001b[0mself\u001b[0m\u001b[0;34m.\u001b[0m\u001b[0mfigure\u001b[0m\u001b[0;34m.\u001b[0m\u001b[0mdraw\u001b[0m\u001b[0;34m(\u001b[0m\u001b[0mself\u001b[0m\u001b[0;34m.\u001b[0m\u001b[0mrenderer\u001b[0m\u001b[0;34m)\u001b[0m\u001b[0;34m\u001b[0m\u001b[0m\n\u001b[0m\u001b[1;32m    438\u001b[0m             \u001b[0;31m# A GUI class may be need to update a window using this draw, so\u001b[0m\u001b[0;34m\u001b[0m\u001b[0;34m\u001b[0m\u001b[0m\n\u001b[1;32m    439\u001b[0m             \u001b[0;31m# don't forget to call the superclass.\u001b[0m\u001b[0;34m\u001b[0m\u001b[0;34m\u001b[0m\u001b[0m\n",
      "\u001b[0;32m/opt/conda/lib/python3.6/site-packages/matplotlib/artist.py\u001b[0m in \u001b[0;36mdraw_wrapper\u001b[0;34m(artist, renderer, *args, **kwargs)\u001b[0m\n\u001b[1;32m     53\u001b[0m                 \u001b[0mrenderer\u001b[0m\u001b[0;34m.\u001b[0m\u001b[0mstart_filter\u001b[0m\u001b[0;34m(\u001b[0m\u001b[0;34m)\u001b[0m\u001b[0;34m\u001b[0m\u001b[0m\n\u001b[1;32m     54\u001b[0m \u001b[0;34m\u001b[0m\u001b[0m\n\u001b[0;32m---> 55\u001b[0;31m             \u001b[0;32mreturn\u001b[0m \u001b[0mdraw\u001b[0m\u001b[0;34m(\u001b[0m\u001b[0martist\u001b[0m\u001b[0;34m,\u001b[0m \u001b[0mrenderer\u001b[0m\u001b[0;34m,\u001b[0m \u001b[0;34m*\u001b[0m\u001b[0margs\u001b[0m\u001b[0;34m,\u001b[0m \u001b[0;34m**\u001b[0m\u001b[0mkwargs\u001b[0m\u001b[0;34m)\u001b[0m\u001b[0;34m\u001b[0m\u001b[0m\n\u001b[0m\u001b[1;32m     56\u001b[0m         \u001b[0;32mfinally\u001b[0m\u001b[0;34m:\u001b[0m\u001b[0;34m\u001b[0m\u001b[0m\n\u001b[1;32m     57\u001b[0m             \u001b[0;32mif\u001b[0m \u001b[0martist\u001b[0m\u001b[0;34m.\u001b[0m\u001b[0mget_agg_filter\u001b[0m\u001b[0;34m(\u001b[0m\u001b[0;34m)\u001b[0m \u001b[0;32mis\u001b[0m \u001b[0;32mnot\u001b[0m \u001b[0;32mNone\u001b[0m\u001b[0;34m:\u001b[0m\u001b[0;34m\u001b[0m\u001b[0m\n",
      "\u001b[0;32m/opt/conda/lib/python3.6/site-packages/matplotlib/figure.py\u001b[0m in \u001b[0;36mdraw\u001b[0;34m(self, renderer)\u001b[0m\n\u001b[1;32m   1491\u001b[0m \u001b[0;34m\u001b[0m\u001b[0m\n\u001b[1;32m   1492\u001b[0m             mimage._draw_list_compositing_images(\n\u001b[0;32m-> 1493\u001b[0;31m                 renderer, self, artists, self.suppressComposite)\n\u001b[0m\u001b[1;32m   1494\u001b[0m \u001b[0;34m\u001b[0m\u001b[0m\n\u001b[1;32m   1495\u001b[0m             \u001b[0mrenderer\u001b[0m\u001b[0;34m.\u001b[0m\u001b[0mclose_group\u001b[0m\u001b[0;34m(\u001b[0m\u001b[0;34m'figure'\u001b[0m\u001b[0;34m)\u001b[0m\u001b[0;34m\u001b[0m\u001b[0m\n",
      "\u001b[0;32m/opt/conda/lib/python3.6/site-packages/matplotlib/image.py\u001b[0m in \u001b[0;36m_draw_list_compositing_images\u001b[0;34m(renderer, parent, artists, suppress_composite)\u001b[0m\n\u001b[1;32m    139\u001b[0m     \u001b[0;32mif\u001b[0m \u001b[0mnot_composite\u001b[0m \u001b[0;32mor\u001b[0m \u001b[0;32mnot\u001b[0m \u001b[0mhas_images\u001b[0m\u001b[0;34m:\u001b[0m\u001b[0;34m\u001b[0m\u001b[0m\n\u001b[1;32m    140\u001b[0m         \u001b[0;32mfor\u001b[0m \u001b[0ma\u001b[0m \u001b[0;32min\u001b[0m \u001b[0martists\u001b[0m\u001b[0;34m:\u001b[0m\u001b[0;34m\u001b[0m\u001b[0m\n\u001b[0;32m--> 141\u001b[0;31m             \u001b[0ma\u001b[0m\u001b[0;34m.\u001b[0m\u001b[0mdraw\u001b[0m\u001b[0;34m(\u001b[0m\u001b[0mrenderer\u001b[0m\u001b[0;34m)\u001b[0m\u001b[0;34m\u001b[0m\u001b[0m\n\u001b[0m\u001b[1;32m    142\u001b[0m     \u001b[0;32melse\u001b[0m\u001b[0;34m:\u001b[0m\u001b[0;34m\u001b[0m\u001b[0m\n\u001b[1;32m    143\u001b[0m         \u001b[0;31m# Composite any adjacent images together\u001b[0m\u001b[0;34m\u001b[0m\u001b[0;34m\u001b[0m\u001b[0m\n",
      "\u001b[0;32m/opt/conda/lib/python3.6/site-packages/matplotlib/artist.py\u001b[0m in \u001b[0;36mdraw_wrapper\u001b[0;34m(artist, renderer, *args, **kwargs)\u001b[0m\n\u001b[1;32m     53\u001b[0m                 \u001b[0mrenderer\u001b[0m\u001b[0;34m.\u001b[0m\u001b[0mstart_filter\u001b[0m\u001b[0;34m(\u001b[0m\u001b[0;34m)\u001b[0m\u001b[0;34m\u001b[0m\u001b[0m\n\u001b[1;32m     54\u001b[0m \u001b[0;34m\u001b[0m\u001b[0m\n\u001b[0;32m---> 55\u001b[0;31m             \u001b[0;32mreturn\u001b[0m \u001b[0mdraw\u001b[0m\u001b[0;34m(\u001b[0m\u001b[0martist\u001b[0m\u001b[0;34m,\u001b[0m \u001b[0mrenderer\u001b[0m\u001b[0;34m,\u001b[0m \u001b[0;34m*\u001b[0m\u001b[0margs\u001b[0m\u001b[0;34m,\u001b[0m \u001b[0;34m**\u001b[0m\u001b[0mkwargs\u001b[0m\u001b[0;34m)\u001b[0m\u001b[0;34m\u001b[0m\u001b[0m\n\u001b[0m\u001b[1;32m     56\u001b[0m         \u001b[0;32mfinally\u001b[0m\u001b[0;34m:\u001b[0m\u001b[0;34m\u001b[0m\u001b[0m\n\u001b[1;32m     57\u001b[0m             \u001b[0;32mif\u001b[0m \u001b[0martist\u001b[0m\u001b[0;34m.\u001b[0m\u001b[0mget_agg_filter\u001b[0m\u001b[0;34m(\u001b[0m\u001b[0;34m)\u001b[0m \u001b[0;32mis\u001b[0m \u001b[0;32mnot\u001b[0m \u001b[0;32mNone\u001b[0m\u001b[0;34m:\u001b[0m\u001b[0;34m\u001b[0m\u001b[0m\n",
      "\u001b[0;32m/opt/conda/lib/python3.6/site-packages/matplotlib/axes/_base.py\u001b[0m in \u001b[0;36mdraw\u001b[0;34m(self, renderer, inframe)\u001b[0m\n\u001b[1;32m   2633\u001b[0m             \u001b[0mrenderer\u001b[0m\u001b[0;34m.\u001b[0m\u001b[0mstop_rasterizing\u001b[0m\u001b[0;34m(\u001b[0m\u001b[0;34m)\u001b[0m\u001b[0;34m\u001b[0m\u001b[0m\n\u001b[1;32m   2634\u001b[0m \u001b[0;34m\u001b[0m\u001b[0m\n\u001b[0;32m-> 2635\u001b[0;31m         \u001b[0mmimage\u001b[0m\u001b[0;34m.\u001b[0m\u001b[0m_draw_list_compositing_images\u001b[0m\u001b[0;34m(\u001b[0m\u001b[0mrenderer\u001b[0m\u001b[0;34m,\u001b[0m \u001b[0mself\u001b[0m\u001b[0;34m,\u001b[0m \u001b[0martists\u001b[0m\u001b[0;34m)\u001b[0m\u001b[0;34m\u001b[0m\u001b[0m\n\u001b[0m\u001b[1;32m   2636\u001b[0m \u001b[0;34m\u001b[0m\u001b[0m\n\u001b[1;32m   2637\u001b[0m         \u001b[0mrenderer\u001b[0m\u001b[0;34m.\u001b[0m\u001b[0mclose_group\u001b[0m\u001b[0;34m(\u001b[0m\u001b[0;34m'axes'\u001b[0m\u001b[0;34m)\u001b[0m\u001b[0;34m\u001b[0m\u001b[0m\n",
      "\u001b[0;32m/opt/conda/lib/python3.6/site-packages/matplotlib/image.py\u001b[0m in \u001b[0;36m_draw_list_compositing_images\u001b[0;34m(renderer, parent, artists, suppress_composite)\u001b[0m\n\u001b[1;32m    139\u001b[0m     \u001b[0;32mif\u001b[0m \u001b[0mnot_composite\u001b[0m \u001b[0;32mor\u001b[0m \u001b[0;32mnot\u001b[0m \u001b[0mhas_images\u001b[0m\u001b[0;34m:\u001b[0m\u001b[0;34m\u001b[0m\u001b[0m\n\u001b[1;32m    140\u001b[0m         \u001b[0;32mfor\u001b[0m \u001b[0ma\u001b[0m \u001b[0;32min\u001b[0m \u001b[0martists\u001b[0m\u001b[0;34m:\u001b[0m\u001b[0;34m\u001b[0m\u001b[0m\n\u001b[0;32m--> 141\u001b[0;31m             \u001b[0ma\u001b[0m\u001b[0;34m.\u001b[0m\u001b[0mdraw\u001b[0m\u001b[0;34m(\u001b[0m\u001b[0mrenderer\u001b[0m\u001b[0;34m)\u001b[0m\u001b[0;34m\u001b[0m\u001b[0m\n\u001b[0m\u001b[1;32m    142\u001b[0m     \u001b[0;32melse\u001b[0m\u001b[0;34m:\u001b[0m\u001b[0;34m\u001b[0m\u001b[0m\n\u001b[1;32m    143\u001b[0m         \u001b[0;31m# Composite any adjacent images together\u001b[0m\u001b[0;34m\u001b[0m\u001b[0;34m\u001b[0m\u001b[0m\n",
      "\u001b[0;32m/opt/conda/lib/python3.6/site-packages/matplotlib/artist.py\u001b[0m in \u001b[0;36mdraw_wrapper\u001b[0;34m(artist, renderer, *args, **kwargs)\u001b[0m\n\u001b[1;32m     53\u001b[0m                 \u001b[0mrenderer\u001b[0m\u001b[0;34m.\u001b[0m\u001b[0mstart_filter\u001b[0m\u001b[0;34m(\u001b[0m\u001b[0;34m)\u001b[0m\u001b[0;34m\u001b[0m\u001b[0m\n\u001b[1;32m     54\u001b[0m \u001b[0;34m\u001b[0m\u001b[0m\n\u001b[0;32m---> 55\u001b[0;31m             \u001b[0;32mreturn\u001b[0m \u001b[0mdraw\u001b[0m\u001b[0;34m(\u001b[0m\u001b[0martist\u001b[0m\u001b[0;34m,\u001b[0m \u001b[0mrenderer\u001b[0m\u001b[0;34m,\u001b[0m \u001b[0;34m*\u001b[0m\u001b[0margs\u001b[0m\u001b[0;34m,\u001b[0m \u001b[0;34m**\u001b[0m\u001b[0mkwargs\u001b[0m\u001b[0;34m)\u001b[0m\u001b[0;34m\u001b[0m\u001b[0m\n\u001b[0m\u001b[1;32m     56\u001b[0m         \u001b[0;32mfinally\u001b[0m\u001b[0;34m:\u001b[0m\u001b[0;34m\u001b[0m\u001b[0m\n\u001b[1;32m     57\u001b[0m             \u001b[0;32mif\u001b[0m \u001b[0martist\u001b[0m\u001b[0;34m.\u001b[0m\u001b[0mget_agg_filter\u001b[0m\u001b[0;34m(\u001b[0m\u001b[0;34m)\u001b[0m \u001b[0;32mis\u001b[0m \u001b[0;32mnot\u001b[0m \u001b[0;32mNone\u001b[0m\u001b[0;34m:\u001b[0m\u001b[0;34m\u001b[0m\u001b[0m\n",
      "\u001b[0;32m/opt/conda/lib/python3.6/site-packages/matplotlib/text.py\u001b[0m in \u001b[0;36mdraw\u001b[0;34m(self, renderer)\u001b[0m\n\u001b[1;32m    711\u001b[0m             \u001b[0mposx\u001b[0m \u001b[0;34m=\u001b[0m \u001b[0mfloat\u001b[0m\u001b[0;34m(\u001b[0m\u001b[0mtextobj\u001b[0m\u001b[0;34m.\u001b[0m\u001b[0mconvert_xunits\u001b[0m\u001b[0;34m(\u001b[0m\u001b[0mtextobj\u001b[0m\u001b[0;34m.\u001b[0m\u001b[0m_x\u001b[0m\u001b[0;34m)\u001b[0m\u001b[0;34m)\u001b[0m\u001b[0;34m\u001b[0m\u001b[0m\n\u001b[1;32m    712\u001b[0m             \u001b[0mposy\u001b[0m \u001b[0;34m=\u001b[0m \u001b[0mfloat\u001b[0m\u001b[0;34m(\u001b[0m\u001b[0mtextobj\u001b[0m\u001b[0;34m.\u001b[0m\u001b[0mconvert_yunits\u001b[0m\u001b[0;34m(\u001b[0m\u001b[0mtextobj\u001b[0m\u001b[0;34m.\u001b[0m\u001b[0m_y\u001b[0m\u001b[0;34m)\u001b[0m\u001b[0;34m)\u001b[0m\u001b[0;34m\u001b[0m\u001b[0m\n\u001b[0;32m--> 713\u001b[0;31m             \u001b[0mposx\u001b[0m\u001b[0;34m,\u001b[0m \u001b[0mposy\u001b[0m \u001b[0;34m=\u001b[0m \u001b[0mtrans\u001b[0m\u001b[0;34m.\u001b[0m\u001b[0mtransform_point\u001b[0m\u001b[0;34m(\u001b[0m\u001b[0;34m(\u001b[0m\u001b[0mposx\u001b[0m\u001b[0;34m,\u001b[0m \u001b[0mposy\u001b[0m\u001b[0;34m)\u001b[0m\u001b[0;34m)\u001b[0m\u001b[0;34m\u001b[0m\u001b[0m\n\u001b[0m\u001b[1;32m    714\u001b[0m             \u001b[0;32mif\u001b[0m \u001b[0;32mnot\u001b[0m \u001b[0mnp\u001b[0m\u001b[0;34m.\u001b[0m\u001b[0misfinite\u001b[0m\u001b[0;34m(\u001b[0m\u001b[0mposx\u001b[0m\u001b[0;34m)\u001b[0m \u001b[0;32mor\u001b[0m \u001b[0;32mnot\u001b[0m \u001b[0mnp\u001b[0m\u001b[0;34m.\u001b[0m\u001b[0misfinite\u001b[0m\u001b[0;34m(\u001b[0m\u001b[0mposy\u001b[0m\u001b[0;34m)\u001b[0m\u001b[0;34m:\u001b[0m\u001b[0;34m\u001b[0m\u001b[0m\n\u001b[1;32m    715\u001b[0m                 \u001b[0m_log\u001b[0m\u001b[0;34m.\u001b[0m\u001b[0mwarning\u001b[0m\u001b[0;34m(\u001b[0m\u001b[0;34m\"posx and posy should be finite values\"\u001b[0m\u001b[0;34m)\u001b[0m\u001b[0;34m\u001b[0m\u001b[0m\n",
      "\u001b[0;32m/opt/conda/lib/python3.6/site-packages/matplotlib/transforms.py\u001b[0m in \u001b[0;36mtransform_point\u001b[0;34m(self, point)\u001b[0m\n\u001b[1;32m   1527\u001b[0m         \u001b[0;32mif\u001b[0m \u001b[0mlen\u001b[0m\u001b[0;34m(\u001b[0m\u001b[0mpoint\u001b[0m\u001b[0;34m)\u001b[0m \u001b[0;34m!=\u001b[0m \u001b[0mself\u001b[0m\u001b[0;34m.\u001b[0m\u001b[0minput_dims\u001b[0m\u001b[0;34m:\u001b[0m\u001b[0;34m\u001b[0m\u001b[0m\n\u001b[1;32m   1528\u001b[0m             \u001b[0;32mraise\u001b[0m \u001b[0mValueError\u001b[0m\u001b[0;34m(\u001b[0m\u001b[0;34m\"The length of 'point' must be 'self.input_dims'\"\u001b[0m\u001b[0;34m)\u001b[0m\u001b[0;34m\u001b[0m\u001b[0m\n\u001b[0;32m-> 1529\u001b[0;31m         \u001b[0;32mreturn\u001b[0m \u001b[0mself\u001b[0m\u001b[0;34m.\u001b[0m\u001b[0mtransform\u001b[0m\u001b[0;34m(\u001b[0m\u001b[0mnp\u001b[0m\u001b[0;34m.\u001b[0m\u001b[0masarray\u001b[0m\u001b[0;34m(\u001b[0m\u001b[0;34m[\u001b[0m\u001b[0mpoint\u001b[0m\u001b[0;34m]\u001b[0m\u001b[0;34m)\u001b[0m\u001b[0;34m)\u001b[0m\u001b[0;34m[\u001b[0m\u001b[0;36m0\u001b[0m\u001b[0;34m]\u001b[0m\u001b[0;34m\u001b[0m\u001b[0m\n\u001b[0m\u001b[1;32m   1530\u001b[0m \u001b[0;34m\u001b[0m\u001b[0m\n\u001b[1;32m   1531\u001b[0m     \u001b[0;32mdef\u001b[0m \u001b[0mtransform_path\u001b[0m\u001b[0;34m(\u001b[0m\u001b[0mself\u001b[0m\u001b[0;34m,\u001b[0m \u001b[0mpath\u001b[0m\u001b[0;34m)\u001b[0m\u001b[0;34m:\u001b[0m\u001b[0;34m\u001b[0m\u001b[0m\n",
      "\u001b[0;32m/opt/conda/lib/python3.6/site-packages/matplotlib/transforms.py\u001b[0m in \u001b[0;36mtransform\u001b[0;34m(self, values)\u001b[0m\n\u001b[1;32m   1440\u001b[0m \u001b[0;34m\u001b[0m\u001b[0m\n\u001b[1;32m   1441\u001b[0m         \u001b[0;31m# Transform the values\u001b[0m\u001b[0;34m\u001b[0m\u001b[0;34m\u001b[0m\u001b[0m\n\u001b[0;32m-> 1442\u001b[0;31m         \u001b[0mres\u001b[0m \u001b[0;34m=\u001b[0m \u001b[0mself\u001b[0m\u001b[0;34m.\u001b[0m\u001b[0mtransform_affine\u001b[0m\u001b[0;34m(\u001b[0m\u001b[0mself\u001b[0m\u001b[0;34m.\u001b[0m\u001b[0mtransform_non_affine\u001b[0m\u001b[0;34m(\u001b[0m\u001b[0mvalues\u001b[0m\u001b[0;34m)\u001b[0m\u001b[0;34m)\u001b[0m\u001b[0;34m\u001b[0m\u001b[0m\n\u001b[0m\u001b[1;32m   1443\u001b[0m \u001b[0;34m\u001b[0m\u001b[0m\n\u001b[1;32m   1444\u001b[0m         \u001b[0;31m# Convert the result back to the shape of the input values.\u001b[0m\u001b[0;34m\u001b[0m\u001b[0;34m\u001b[0m\u001b[0m\n",
      "\u001b[0;32m/opt/conda/lib/python3.6/site-packages/matplotlib/transforms.py\u001b[0m in \u001b[0;36mtransform_affine\u001b[0;34m(self, points)\u001b[0m\n\u001b[1;32m   2473\u001b[0m \u001b[0;34m\u001b[0m\u001b[0m\n\u001b[1;32m   2474\u001b[0m     \u001b[0;32mdef\u001b[0m \u001b[0mtransform_affine\u001b[0m\u001b[0;34m(\u001b[0m\u001b[0mself\u001b[0m\u001b[0;34m,\u001b[0m \u001b[0mpoints\u001b[0m\u001b[0;34m)\u001b[0m\u001b[0;34m:\u001b[0m\u001b[0;34m\u001b[0m\u001b[0m\n\u001b[0;32m-> 2475\u001b[0;31m         \u001b[0;32mreturn\u001b[0m \u001b[0mself\u001b[0m\u001b[0;34m.\u001b[0m\u001b[0mget_affine\u001b[0m\u001b[0;34m(\u001b[0m\u001b[0;34m)\u001b[0m\u001b[0;34m.\u001b[0m\u001b[0mtransform\u001b[0m\u001b[0;34m(\u001b[0m\u001b[0mpoints\u001b[0m\u001b[0;34m)\u001b[0m\u001b[0;34m\u001b[0m\u001b[0m\n\u001b[0m\u001b[1;32m   2476\u001b[0m     \u001b[0mtransform_affine\u001b[0m\u001b[0;34m.\u001b[0m\u001b[0m__doc__\u001b[0m \u001b[0;34m=\u001b[0m \u001b[0mTransform\u001b[0m\u001b[0;34m.\u001b[0m\u001b[0mtransform_affine\u001b[0m\u001b[0;34m.\u001b[0m\u001b[0m__doc__\u001b[0m\u001b[0;34m\u001b[0m\u001b[0m\n\u001b[1;32m   2477\u001b[0m \u001b[0;34m\u001b[0m\u001b[0m\n",
      "\u001b[0;32m/opt/conda/lib/python3.6/site-packages/matplotlib/transforms.py\u001b[0m in \u001b[0;36mget_affine\u001b[0;34m(self)\u001b[0m\n\u001b[1;32m   2500\u001b[0m             \u001b[0;32mreturn\u001b[0m \u001b[0mself\u001b[0m\u001b[0;34m.\u001b[0m\u001b[0m_b\u001b[0m\u001b[0;34m.\u001b[0m\u001b[0mget_affine\u001b[0m\u001b[0;34m(\u001b[0m\u001b[0;34m)\u001b[0m\u001b[0;34m\u001b[0m\u001b[0m\n\u001b[1;32m   2501\u001b[0m         \u001b[0;32melse\u001b[0m\u001b[0;34m:\u001b[0m\u001b[0;34m\u001b[0m\u001b[0m\n\u001b[0;32m-> 2502\u001b[0;31m             return Affine2D(np.dot(self._b.get_affine().get_matrix(),\n\u001b[0m\u001b[1;32m   2503\u001b[0m                                 self._a.get_affine().get_matrix()))\n\u001b[1;32m   2504\u001b[0m     \u001b[0mget_affine\u001b[0m\u001b[0;34m.\u001b[0m\u001b[0m__doc__\u001b[0m \u001b[0;34m=\u001b[0m \u001b[0mTransform\u001b[0m\u001b[0;34m.\u001b[0m\u001b[0mget_affine\u001b[0m\u001b[0;34m.\u001b[0m\u001b[0m__doc__\u001b[0m\u001b[0;34m\u001b[0m\u001b[0m\n",
      "\u001b[0;32m/opt/conda/lib/python3.6/site-packages/matplotlib/transforms.py\u001b[0m in \u001b[0;36mget_affine\u001b[0;34m(self)\u001b[0m\n\u001b[1;32m   2501\u001b[0m         \u001b[0;32melse\u001b[0m\u001b[0;34m:\u001b[0m\u001b[0;34m\u001b[0m\u001b[0m\n\u001b[1;32m   2502\u001b[0m             return Affine2D(np.dot(self._b.get_affine().get_matrix(),\n\u001b[0;32m-> 2503\u001b[0;31m                                 self._a.get_affine().get_matrix()))\n\u001b[0m\u001b[1;32m   2504\u001b[0m     \u001b[0mget_affine\u001b[0m\u001b[0;34m.\u001b[0m\u001b[0m__doc__\u001b[0m \u001b[0;34m=\u001b[0m \u001b[0mTransform\u001b[0m\u001b[0;34m.\u001b[0m\u001b[0mget_affine\u001b[0m\u001b[0;34m.\u001b[0m\u001b[0m__doc__\u001b[0m\u001b[0;34m\u001b[0m\u001b[0m\n\u001b[1;32m   2505\u001b[0m \u001b[0;34m\u001b[0m\u001b[0m\n",
      "\u001b[0;31mKeyboardInterrupt\u001b[0m: "
     ]
    }
   ],
   "source": [
    "from sklearn.metrics import confusion_matrix\n",
    "\n",
    "y_pred = model.predict_classes(x_val)\n",
    "cm = confusion_matrix(np.argmax(y_val,axis=1),y_pred)\n",
    "\n",
    "ax = plt.axes()\n",
    "sns.heatmap(cm, annot=True, fmt=\"d\", cmap=\"PuRd\")\n",
    "ax.set_title('Confusion Matrix Convolutional Neural Network')\n",
    "ax.set_ylabel('True Label')\n",
    "ax.set_xlabel('Predicted Label')\n",
    "plt.show()"
   ]
  },
  {
   "cell_type": "markdown",
   "metadata": {
    "_uuid": "7d5e40c3de6607edac63f0b6b6da8cd3e8256c95",
    "colab_type": "text",
    "id": "nSHTguw5TWGW"
   },
   "source": [
    "### Soal 2.4 (5 poin)\n",
    "\n",
    "Coba untuk melakukan klasifikasi dengan MLP, tetapi dengan gambar yang berwarna. Anda dibebaskan untuk menentukan arsitektur neural network yang akan digunakan. Berapa akurasi pada data uji yang bisa Anda dapatkan?"
   ]
  },
  {
   "cell_type": "code",
   "execution_count": 32,
   "metadata": {
    "_uuid": "041ffa8839fc15e930445ad9c8157b50ccc135a9",
    "colab": {},
    "colab_type": "code",
    "id": "H-acTwINTWG3"
   },
   "outputs": [
    {
     "name": "stdout",
     "output_type": "stream",
     "text": [
      "Train on 40000 samples, validate on 10000 samples\n",
      "Epoch 1/50\n",
      "40000/40000 [==============================] - 4s 93us/step - loss: 38899.6248 - acc: 0.0000e+00 - val_loss: 38312.4646 - val_acc: 3.0000e-04\n",
      "Epoch 2/50\n",
      "40000/40000 [==============================] - 3s 79us/step - loss: 38552.8461 - acc: 4.5000e-04 - val_loss: 38311.9772 - val_acc: 0.0000e+00\n",
      "Epoch 3/50\n",
      "40000/40000 [==============================] - 3s 78us/step - loss: 38552.4844 - acc: 3.7500e-04 - val_loss: 38311.7081 - val_acc: 0.0000e+00\n",
      "Epoch 4/50\n",
      "40000/40000 [==============================] - 3s 78us/step - loss: 38552.2615 - acc: 2.5000e-04 - val_loss: 38311.5271 - val_acc: 0.0000e+00\n",
      "Epoch 5/50\n",
      "40000/40000 [==============================] - 3s 79us/step - loss: 38552.1051 - acc: 2.0000e-04 - val_loss: 38311.3947 - val_acc: 0.0000e+00\n",
      "Epoch 6/50\n",
      "40000/40000 [==============================] - 3s 79us/step - loss: 38551.9876 - acc: 1.2500e-04 - val_loss: 38311.2921 - val_acc: 1.0000e-04\n",
      "Epoch 7/50\n",
      "40000/40000 [==============================] - 3s 78us/step - loss: 38551.8952 - acc: 1.5000e-04 - val_loss: 38311.2103 - val_acc: 1.0000e-04\n",
      "Epoch 8/50\n",
      "40000/40000 [==============================] - 3s 78us/step - loss: 38551.8202 - acc: 1.0000e-04 - val_loss: 38311.1425 - val_acc: 1.0000e-04\n",
      "Epoch 9/50\n",
      "40000/40000 [==============================] - 3s 78us/step - loss: 38551.7578 - acc: 5.0000e-05 - val_loss: 38311.0861 - val_acc: 1.0000e-04\n",
      "Epoch 10/50\n",
      "40000/40000 [==============================] - 3s 78us/step - loss: 38551.7055 - acc: 2.5000e-05 - val_loss: 38311.0375 - val_acc: 1.0000e-04\n",
      "Epoch 11/50\n",
      "40000/40000 [==============================] - 3s 78us/step - loss: 38551.6607 - acc: 5.0000e-05 - val_loss: 38310.9968 - val_acc: 0.0000e+00\n",
      "Epoch 12/50\n",
      "40000/40000 [==============================] - 3s 79us/step - loss: 38551.6223 - acc: 5.0000e-05 - val_loss: 38310.9612 - val_acc: 0.0000e+00\n",
      "Epoch 13/50\n",
      "40000/40000 [==============================] - 3s 79us/step - loss: 38551.5892 - acc: 5.0000e-05 - val_loss: 38310.9307 - val_acc: 0.0000e+00\n",
      "Epoch 14/50\n",
      "40000/40000 [==============================] - 3s 79us/step - loss: 38551.5604 - acc: 0.0000e+00 - val_loss: 38310.9034 - val_acc: 0.0000e+00\n",
      "Epoch 15/50\n",
      "40000/40000 [==============================] - 3s 78us/step - loss: 38551.5354 - acc: 2.5000e-05 - val_loss: 38310.8800 - val_acc: 0.0000e+00\n",
      "Epoch 16/50\n",
      "40000/40000 [==============================] - 3s 78us/step - loss: 38551.5135 - acc: 0.0000e+00 - val_loss: 38310.8597 - val_acc: 0.0000e+00\n",
      "Epoch 17/50\n",
      "40000/40000 [==============================] - 3s 79us/step - loss: 38551.4947 - acc: 0.0000e+00 - val_loss: 38310.8422 - val_acc: 0.0000e+00\n",
      "Epoch 18/50\n",
      "40000/40000 [==============================] - 3s 79us/step - loss: 38551.4781 - acc: 0.0000e+00 - val_loss: 38310.8267 - val_acc: 0.0000e+00\n",
      "Epoch 19/50\n",
      "40000/40000 [==============================] - 3s 79us/step - loss: 38551.4636 - acc: 0.0000e+00 - val_loss: 38310.8134 - val_acc: 0.0000e+00\n",
      "Epoch 20/50\n",
      "40000/40000 [==============================] - 3s 78us/step - loss: 38551.4510 - acc: 0.0000e+00 - val_loss: 38310.8011 - val_acc: 0.0000e+00\n",
      "Epoch 21/50\n",
      "40000/40000 [==============================] - 3s 79us/step - loss: 38551.4400 - acc: 0.0000e+00 - val_loss: 38310.7909 - val_acc: 2.0000e-04\n",
      "Epoch 22/50\n",
      "40000/40000 [==============================] - 3s 78us/step - loss: 38551.4309 - acc: 0.0000e+00 - val_loss: 38310.7827 - val_acc: 0.0000e+00\n",
      "Epoch 23/50\n",
      "40000/40000 [==============================] - 3s 78us/step - loss: 38551.4230 - acc: 2.5000e-05 - val_loss: 38310.7759 - val_acc: 0.0000e+00\n",
      "Epoch 24/50\n",
      "40000/40000 [==============================] - 3s 78us/step - loss: 38551.4161 - acc: 0.0000e+00 - val_loss: 38310.7682 - val_acc: 0.0000e+00\n",
      "Epoch 25/50\n",
      "40000/40000 [==============================] - 3s 78us/step - loss: 38551.4100 - acc: 0.0000e+00 - val_loss: 38310.7624 - val_acc: 0.0000e+00\n",
      "Epoch 26/50\n",
      "40000/40000 [==============================] - 3s 78us/step - loss: 38551.4048 - acc: 0.0000e+00 - val_loss: 38310.7569 - val_acc: 0.0000e+00\n",
      "Epoch 27/50\n",
      "40000/40000 [==============================] - 3s 78us/step - loss: 38551.4011 - acc: 0.0000e+00 - val_loss: 38310.7520 - val_acc: 0.0000e+00\n",
      "Epoch 28/50\n",
      "40000/40000 [==============================] - 3s 78us/step - loss: 38551.3963 - acc: 0.0000e+00 - val_loss: 38310.7486 - val_acc: 0.0000e+00\n",
      "Epoch 29/50\n",
      "40000/40000 [==============================] - 3s 78us/step - loss: 38551.3938 - acc: 0.0000e+00 - val_loss: 38310.7464 - val_acc: 0.0000e+00\n",
      "Epoch 30/50\n",
      "40000/40000 [==============================] - 3s 79us/step - loss: 38551.3910 - acc: 2.5000e-05 - val_loss: 38310.7432 - val_acc: 0.0000e+00\n",
      "Epoch 31/50\n",
      "40000/40000 [==============================] - 3s 80us/step - loss: 38551.3888 - acc: 0.0000e+00 - val_loss: 38310.7415 - val_acc: 0.0000e+00\n",
      "Epoch 32/50\n",
      "40000/40000 [==============================] - 3s 81us/step - loss: 38551.3872 - acc: 0.0000e+00 - val_loss: 38310.7378 - val_acc: 0.0000e+00\n",
      "Epoch 33/50\n",
      "40000/40000 [==============================] - 3s 79us/step - loss: 38551.3847 - acc: 5.0000e-05 - val_loss: 38310.7411 - val_acc: 0.0000e+00\n",
      "Epoch 34/50\n",
      "40000/40000 [==============================] - 3s 79us/step - loss: 38551.3848 - acc: 1.5000e-04 - val_loss: 38310.7350 - val_acc: 0.0000e+00\n",
      "Epoch 35/50\n",
      "40000/40000 [==============================] - 3s 78us/step - loss: 38551.3821 - acc: 1.0000e-04 - val_loss: 38310.7346 - val_acc: 0.0000e+00\n",
      "Epoch 36/50\n",
      "40000/40000 [==============================] - 3s 78us/step - loss: 38551.3809 - acc: 4.2500e-04 - val_loss: 38310.7346 - val_acc: 0.0000e+00\n",
      "Epoch 37/50\n",
      "40000/40000 [==============================] - 3s 79us/step - loss: 38551.3815 - acc: 2.5000e-05 - val_loss: 38310.7351 - val_acc: 0.0000e+00\n",
      "Epoch 38/50\n",
      "40000/40000 [==============================] - 3s 78us/step - loss: 38551.3802 - acc: 2.5000e-05 - val_loss: 38310.7429 - val_acc: 0.0000e+00\n",
      "Epoch 39/50\n",
      "40000/40000 [==============================] - 3s 78us/step - loss: 38551.3783 - acc: 7.5000e-05 - val_loss: 38310.7355 - val_acc: 0.0000e+00\n",
      "Epoch 40/50\n",
      "40000/40000 [==============================] - 3s 78us/step - loss: 38551.3781 - acc: 1.0000e-04 - val_loss: 38310.7545 - val_acc: 0.0000e+00\n",
      "Epoch 41/50\n",
      "40000/40000 [==============================] - 3s 78us/step - loss: 38551.3773 - acc: 0.0000e+00 - val_loss: 38310.7285 - val_acc: 0.0000e+00\n",
      "Epoch 42/50\n",
      "40000/40000 [==============================] - 3s 78us/step - loss: 38551.3770 - acc: 0.0016 - val_loss: 38310.7286 - val_acc: 0.0045\n",
      "Epoch 43/50\n",
      "40000/40000 [==============================] - 3s 78us/step - loss: 38551.3761 - acc: 5.0000e-05 - val_loss: 38310.7326 - val_acc: 0.0000e+00\n",
      "Epoch 44/50\n",
      "40000/40000 [==============================] - 3s 79us/step - loss: 38551.3758 - acc: 4.7500e-04 - val_loss: 38310.7321 - val_acc: 0.0000e+00\n",
      "Epoch 45/50\n",
      "40000/40000 [==============================] - 3s 79us/step - loss: 38551.3748 - acc: 2.5000e-04 - val_loss: 38310.7360 - val_acc: 0.0000e+00\n",
      "Epoch 46/50\n",
      "40000/40000 [==============================] - 3s 79us/step - loss: 38551.3756 - acc: 5.0000e-05 - val_loss: 38310.7296 - val_acc: 0.0000e+00\n",
      "Epoch 47/50\n",
      "40000/40000 [==============================] - 3s 78us/step - loss: 38551.3741 - acc: 8.7500e-04 - val_loss: 38310.7293 - val_acc: 0.0000e+00\n",
      "Epoch 48/50\n",
      "40000/40000 [==============================] - 3s 79us/step - loss: 38551.3740 - acc: 0.0000e+00 - val_loss: 38310.7350 - val_acc: 0.0000e+00\n",
      "Epoch 49/50\n",
      "40000/40000 [==============================] - 3s 78us/step - loss: 38551.3743 - acc: 2.5000e-05 - val_loss: 38310.7280 - val_acc: 0.0024\n",
      "Epoch 50/50\n",
      "40000/40000 [==============================] - 3s 79us/step - loss: 38551.3737 - acc: 7.7500e-04 - val_loss: 38310.7276 - val_acc: 0.0000e+00\n",
      "_________________________________________________________________\n",
      "Layer (type)                 Output Shape              Param #   \n",
      "=================================================================\n",
      "flatten_2 (Flatten)          multiple                  0         \n",
      "_________________________________________________________________\n",
      "dense_2 (Dense)              multiple                  3687600   \n",
      "=================================================================\n",
      "Total params: 3,687,600\n",
      "Trainable params: 3,687,600\n",
      "Non-trainable params: 0\n",
      "_________________________________________________________________\n"
     ]
    }
   ],
   "source": [
    "np.random.seed(42)\n",
    "\n",
    "def mlpc():\n",
    "    model = tf.keras.models.Sequential([\n",
    "        tf.keras.layers.Flatten(),\n",
    "        tf.keras.layers.Dense(1200, activation='relu')\n",
    "    ])\n",
    "    return model\n",
    "\n",
    "x_train, x_val = train_test_split(x_train,test_size=0.2,random_state=2510)\n",
    "\n",
    "model = mlpc()\n",
    "#Compile mlp\n",
    "model.compile(loss='categorical_crossentropy',optimizer='adam',metrics=['acc'])\n",
    "# Train the model\n",
    "hist = model.fit(x_train, y_train,batch_size=100,epochs=50,verbose=1,validation_data=(x_val, y_val))\n",
    "model.summary()"
   ]
  },
  {
   "cell_type": "markdown",
   "metadata": {
    "_uuid": "48290c851ebc886ed7a96818582572b103db601d",
    "colab_type": "text",
    "id": "FbXQNq4sTWIp"
   },
   "source": [
    "### Soal 2.5 (5 poin)\n",
    "\n",
    "Apa kesimpulan yang dapat Anda ambil sejauh ini? *Petunjuk: Anda dapat membandingkan akurasi terbaik yang Anda dapatkan dengan akurasi yang mungkin didapatkan jika klasifikasinya hanya berupa model yang menebak objek secara acak (uniform random).*"
   ]
  },
  {
   "cell_type": "markdown",
   "metadata": {
    "_uuid": "dcc8c0f8f94d90314142017a011ca35cf7952088",
    "colab_type": "text",
    "id": "sR7py0AlTWJM"
   },
   "source": [
    "*Dari pengerjaan diatas, dapat diketahui bahwa menggunakan grayscale akan lebih tinggi nilai akurasinya, karena gambar akan lebih mudah diprediksi dibandingkan yang berwarna*"
   ]
  },
  {
   "cell_type": "markdown",
   "metadata": {
    "_uuid": "4900608c7260ea63a726ab625d35f0b8b301d878",
    "colab_type": "text",
    "id": "LhPLYPHlTWKA"
   },
   "source": [
    "## 3. Convolutional Neural Networks (20 poin)\n",
    "\n",
    "Apakah kita bisa menghasilkan model klasifikasi yang lebih baik?"
   ]
  },
  {
   "cell_type": "markdown",
   "metadata": {
    "_uuid": "bba7e6e72376a026e5543f6d452810c97cd42110",
    "colab_type": "text",
    "id": "N7guQ02KTWKN"
   },
   "source": [
    "### Soal 3.1 (5 poin)\n",
    "\n",
    "Buatlah model *convolutional neural network* untuk melakukan klasifikasi. Anda dibebaskan untuk menentukan arsitekturnya."
   ]
  },
  {
   "cell_type": "code",
   "execution_count": 35,
   "metadata": {
    "_uuid": "3fe094062759f52a948f5f19c942452c3ae513ba",
    "colab": {},
    "colab_type": "code",
    "id": "rDd97CUITWKy"
   },
   "outputs": [
    {
     "name": "stderr",
     "output_type": "stream",
     "text": [
      "/opt/conda/lib/python3.6/site-packages/keras_applications/resnet50.py:265: UserWarning: The output shape of `ResNet50(include_top=False)` has been changed since Keras 2.2.0.\n",
      "  warnings.warn('The output shape of `ResNet50(include_top=False)` '\n"
     ]
    }
   ],
   "source": [
    "from keras import models\n",
    "from keras import layers\n",
    "from keras import optimizers\n",
    "from keras.applications.resnet50 import ResNet50\n",
    " \n",
    "application = ResNet50(include_top=False, weights='imagenet', input_shape=(32, 32, 3))\n",
    "\n",
    "def cnn():\n",
    "    # Create the model\n",
    "    model = models.Sequential()\n",
    " \n",
    "    # Add the vgg convolutional base model\n",
    "    model.add(application)\n",
    " \n",
    "    # Add new layers\n",
    "    model.add(layers.Flatten())\n",
    "    model.add(layers.Dense(1024, activation='relu'))\n",
    "    model.add(layers.Dropout(0.5))\n",
    "    model.add(layers.Dense(10, activation='softmax'))\n",
    " \n",
    "    # Show a summary of the model. Check the number of trainable parameters\n",
    "    #model.summary()\n",
    "    return model"
   ]
  },
  {
   "cell_type": "markdown",
   "metadata": {
    "_uuid": "8719330852ffcc160268fcda9bb68efc7b0e048c",
    "colab_type": "text",
    "id": "oAeaoOwgTWLd"
   },
   "source": [
    "### Soal 3.2 (3 poin)\n",
    "\n",
    "Latih model dengan data latih dan gunakan 20% dari data latih sebagai validasi. Gambarkan *learning curve* dari model Anda."
   ]
  },
  {
   "cell_type": "code",
   "execution_count": null,
   "metadata": {
    "_uuid": "be81800346569cacd20ffdbb9db483f9ef9d6ac0",
    "colab": {},
    "colab_type": "code",
    "id": "RSyS6g2XTWL2",
    "scrolled": true
   },
   "outputs": [],
   "source": [
    "np.random.seed(42)\n",
    "\n",
    "model = cnn()\n",
    "model.compile(loss='sparse_categorical_crossentropy',optimizer=optimizers.Adam(),metrics=['acc'])\n",
    "# Train the model\n",
    "hist = model.fit(x_train, y_train,batch_size=1000,epochs=50,verbose=1,validation_data=(x_val, y_val))"
   ]
  },
  {
   "cell_type": "markdown",
   "metadata": {
    "_uuid": "0e1381a531aaa9300580f81afd44108448b629aa",
    "colab_type": "text",
    "id": "1f2vudNhTWNJ"
   },
   "source": [
    "### Soal 3.3 (5 poin)\n",
    "\n",
    "Salah satu cara untuk menghasilkan klasifikasi yang lebih baik pada dataset berupa gambar adalah dengan melakukan augmentasi. Definisikan augmentasinya dengan `keras.preprocessing.image.ImageDataGenerator`, lalu latih ulang model Anda. Pastikan bahwa data validasi tidak diaugmentasi. Berapa akurasi yang Anda dapatkan sekarang?"
   ]
  },
  {
   "cell_type": "code",
   "execution_count": null,
   "metadata": {
    "_uuid": "c55c022650448dcb92e855e27e71388917e86ca8",
    "colab": {},
    "colab_type": "code",
    "id": "nWptd4YmTWN3"
   },
   "outputs": [],
   "source": [
    "np.random.seed(42)\n",
    "\n",
    "model = cnn()\n",
    "# Kode Anda di sini"
   ]
  },
  {
   "cell_type": "markdown",
   "metadata": {
    "_uuid": "f10b46b5dadd2cd4b2bacbdfe97363ce9744fd9e",
    "colab_type": "text",
    "id": "TlggerDgTWP4"
   },
   "source": [
    "### Soal 3.4 (2 poin)\n",
    "\n",
    "Lakukan klasifikasi pada data uji dengan model terbaik yang Anda hasilkan. Berapa akurasi yang Anda dapatkan? Gambarkan pula *confusion matrix*-nya!"
   ]
  },
  {
   "cell_type": "code",
   "execution_count": null,
   "metadata": {
    "_uuid": "490290f68b5b798102ac763f46dc93eeac0739e0",
    "colab": {},
    "colab_type": "code",
    "id": "TCsjJ1M6TWP7"
   },
   "outputs": [],
   "source": [
    "from sklearn.metrics import confusion_matrix\n",
    "\n",
    "y_pred = model.predict_classes(x_val)\n",
    "cm = confusion_matrix(np.argmax(y_val,axis=1),y_pred)\n",
    "\n",
    "ax = plt.axes()\n",
    "sns.heatmap(cm, annot=True, fmt=\"d\", cmap=\"PuRd\")\n",
    "ax.set_title('Confusion Matrix Convolutional Neural Network')\n",
    "ax.set_ylabel('True Label')\n",
    "ax.set_xlabel('Predicted Label')\n",
    "plt.show()"
   ]
  },
  {
   "cell_type": "markdown",
   "metadata": {
    "_uuid": "c28f3e1651fdcf77cfb5f70bdb839f862b97623e",
    "colab_type": "text",
    "id": "pIq4PfYPTWQK"
   },
   "source": [
    "### Soal 3.5 (5 poin)\n",
    "\n",
    "Berikan kesimpulan Anda dari eksplorasi yang telah Anda lakukan pada tugas ini."
   ]
  },
  {
   "cell_type": "markdown",
   "metadata": {
    "_uuid": "1086137c4bbfd26b6d0664e4d32c3027836da768",
    "colab_type": "text",
    "id": "ttX3C45VTWQg"
   },
   "source": [
    "*Dari tugas ini, dapat ditarik kesimpulan bahwa semakin kecil nilai dimensi, akan semakin sulit untuk diprediksi, pada tugas ini dimensi dari gambar hanya 32 x 32, dan mengakibatkan nilai akurasinya yang sangat kecil*"
   ]
  },
  {
   "cell_type": "code",
   "execution_count": null,
   "metadata": {
    "_uuid": "439df77d75a9ae600849149069a1cd7920289f95"
   },
   "outputs": [],
   "source": []
  }
 ],
 "metadata": {
  "colab": {
   "collapsed_sections": [],
   "name": "tugas2_0102516002.ipynb",
   "provenance": [],
   "version": "0.3.2"
  },
  "kernelspec": {
   "display_name": "Python 3",
   "language": "python",
   "name": "python3"
  },
  "language_info": {
   "codemirror_mode": {
    "name": "ipython",
    "version": 3
   },
   "file_extension": ".py",
   "mimetype": "text/x-python",
   "name": "python",
   "nbconvert_exporter": "python",
   "pygments_lexer": "ipython3",
   "version": "3.6.8"
  }
 },
 "nbformat": 4,
 "nbformat_minor": 1
}
